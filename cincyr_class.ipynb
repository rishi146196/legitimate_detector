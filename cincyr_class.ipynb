{
 "cells": [
  {
   "cell_type": "code",
   "execution_count": 55,
   "id": "80bb7c0e-92ee-40d2-b668-d2ea031087bd",
   "metadata": {},
   "outputs": [],
   "source": [
    "import numpy as np\n",
    "import pandas as pd\n",
    "import matplotlib.pyplot as plt\n",
    "import seaborn as sns"
   ]
  },
  {
   "cell_type": "code",
   "execution_count": 56,
   "id": "20c6d5b3-ba26-43a8-bc31-6fe68c5e300e",
   "metadata": {},
   "outputs": [],
   "source": [
    "import warnings\n",
    "warnings.filterwarnings(\"ignore\")"
   ]
  },
  {
   "cell_type": "code",
   "execution_count": 57,
   "id": "cb9d0006-a8b2-40bb-818c-64633188156e",
   "metadata": {},
   "outputs": [
    {
     "data": {
      "text/html": [
       "<div>\n",
       "<style scoped>\n",
       "    .dataframe tbody tr th:only-of-type {\n",
       "        vertical-align: middle;\n",
       "    }\n",
       "\n",
       "    .dataframe tbody tr th {\n",
       "        vertical-align: top;\n",
       "    }\n",
       "\n",
       "    .dataframe thead th {\n",
       "        text-align: right;\n",
       "    }\n",
       "</style>\n",
       "<table border=\"1\" class=\"dataframe\">\n",
       "  <thead>\n",
       "    <tr style=\"text-align: right;\">\n",
       "      <th></th>\n",
       "      <th>company_name</th>\n",
       "      <th>registered</th>\n",
       "      <th>company_age</th>\n",
       "      <th>valid_address</th>\n",
       "      <th>domain_age</th>\n",
       "      <th>listed_in_gov_db</th>\n",
       "      <th>has_audited_reports</th>\n",
       "      <th>is_fraud</th>\n",
       "    </tr>\n",
       "  </thead>\n",
       "  <tbody>\n",
       "    <tr>\n",
       "      <th>0</th>\n",
       "      <td>Davis, Best and Garcia</td>\n",
       "      <td>0</td>\n",
       "      <td>19</td>\n",
       "      <td>0</td>\n",
       "      <td>11</td>\n",
       "      <td>1</td>\n",
       "      <td>1</td>\n",
       "      <td>1</td>\n",
       "    </tr>\n",
       "    <tr>\n",
       "      <th>1</th>\n",
       "      <td>Mathis-Stevens</td>\n",
       "      <td>1</td>\n",
       "      <td>18</td>\n",
       "      <td>0</td>\n",
       "      <td>16</td>\n",
       "      <td>0</td>\n",
       "      <td>1</td>\n",
       "      <td>1</td>\n",
       "    </tr>\n",
       "    <tr>\n",
       "      <th>2</th>\n",
       "      <td>Larson-Dean</td>\n",
       "      <td>1</td>\n",
       "      <td>11</td>\n",
       "      <td>0</td>\n",
       "      <td>19</td>\n",
       "      <td>0</td>\n",
       "      <td>0</td>\n",
       "      <td>1</td>\n",
       "    </tr>\n",
       "    <tr>\n",
       "      <th>3</th>\n",
       "      <td>Lutz-Brennan</td>\n",
       "      <td>1</td>\n",
       "      <td>46</td>\n",
       "      <td>0</td>\n",
       "      <td>4</td>\n",
       "      <td>1</td>\n",
       "      <td>1</td>\n",
       "      <td>0</td>\n",
       "    </tr>\n",
       "    <tr>\n",
       "      <th>4</th>\n",
       "      <td>Hansen-Palmer</td>\n",
       "      <td>0</td>\n",
       "      <td>10</td>\n",
       "      <td>1</td>\n",
       "      <td>20</td>\n",
       "      <td>1</td>\n",
       "      <td>0</td>\n",
       "      <td>1</td>\n",
       "    </tr>\n",
       "    <tr>\n",
       "      <th>...</th>\n",
       "      <td>...</td>\n",
       "      <td>...</td>\n",
       "      <td>...</td>\n",
       "      <td>...</td>\n",
       "      <td>...</td>\n",
       "      <td>...</td>\n",
       "      <td>...</td>\n",
       "      <td>...</td>\n",
       "    </tr>\n",
       "    <tr>\n",
       "      <th>6995</th>\n",
       "      <td>Watson, Warren and Williams</td>\n",
       "      <td>1</td>\n",
       "      <td>26</td>\n",
       "      <td>1</td>\n",
       "      <td>9</td>\n",
       "      <td>1</td>\n",
       "      <td>0</td>\n",
       "      <td>1</td>\n",
       "    </tr>\n",
       "    <tr>\n",
       "      <th>6996</th>\n",
       "      <td>Conner-Benson</td>\n",
       "      <td>0</td>\n",
       "      <td>20</td>\n",
       "      <td>1</td>\n",
       "      <td>9</td>\n",
       "      <td>0</td>\n",
       "      <td>1</td>\n",
       "      <td>1</td>\n",
       "    </tr>\n",
       "    <tr>\n",
       "      <th>6997</th>\n",
       "      <td>Price PLC</td>\n",
       "      <td>0</td>\n",
       "      <td>7</td>\n",
       "      <td>1</td>\n",
       "      <td>16</td>\n",
       "      <td>1</td>\n",
       "      <td>0</td>\n",
       "      <td>1</td>\n",
       "    </tr>\n",
       "    <tr>\n",
       "      <th>6998</th>\n",
       "      <td>Brown-Graham</td>\n",
       "      <td>0</td>\n",
       "      <td>6</td>\n",
       "      <td>0</td>\n",
       "      <td>16</td>\n",
       "      <td>0</td>\n",
       "      <td>1</td>\n",
       "      <td>1</td>\n",
       "    </tr>\n",
       "    <tr>\n",
       "      <th>6999</th>\n",
       "      <td>Espinoza, Mills and Garcia</td>\n",
       "      <td>1</td>\n",
       "      <td>24</td>\n",
       "      <td>1</td>\n",
       "      <td>14</td>\n",
       "      <td>1</td>\n",
       "      <td>1</td>\n",
       "      <td>0</td>\n",
       "    </tr>\n",
       "  </tbody>\n",
       "</table>\n",
       "<p>7000 rows × 8 columns</p>\n",
       "</div>"
      ],
      "text/plain": [
       "                     company_name  registered  company_age  valid_address  \\\n",
       "0          Davis, Best and Garcia           0           19              0   \n",
       "1                  Mathis-Stevens           1           18              0   \n",
       "2                     Larson-Dean           1           11              0   \n",
       "3                    Lutz-Brennan           1           46              0   \n",
       "4                   Hansen-Palmer           0           10              1   \n",
       "...                           ...         ...          ...            ...   \n",
       "6995  Watson, Warren and Williams           1           26              1   \n",
       "6996                Conner-Benson           0           20              1   \n",
       "6997                    Price PLC           0            7              1   \n",
       "6998                 Brown-Graham           0            6              0   \n",
       "6999   Espinoza, Mills and Garcia           1           24              1   \n",
       "\n",
       "      domain_age  listed_in_gov_db  has_audited_reports  is_fraud  \n",
       "0             11                 1                    1         1  \n",
       "1             16                 0                    1         1  \n",
       "2             19                 0                    0         1  \n",
       "3              4                 1                    1         0  \n",
       "4             20                 1                    0         1  \n",
       "...          ...               ...                  ...       ...  \n",
       "6995           9                 1                    0         1  \n",
       "6996           9                 0                    1         1  \n",
       "6997          16                 1                    0         1  \n",
       "6998          16                 0                    1         1  \n",
       "6999          14                 1                    1         0  \n",
       "\n",
       "[7000 rows x 8 columns]"
      ]
     },
     "execution_count": 57,
     "metadata": {},
     "output_type": "execute_result"
    }
   ],
   "source": [
    "df = pd.read_csv('Cincyr_task_dataset.csv')\n",
    "df"
   ]
  },
  {
   "cell_type": "code",
   "execution_count": 58,
   "id": "d953ad1f-0deb-4cae-9c35-e13c5c671835",
   "metadata": {},
   "outputs": [
    {
     "data": {
      "text/html": [
       "<div>\n",
       "<style scoped>\n",
       "    .dataframe tbody tr th:only-of-type {\n",
       "        vertical-align: middle;\n",
       "    }\n",
       "\n",
       "    .dataframe tbody tr th {\n",
       "        vertical-align: top;\n",
       "    }\n",
       "\n",
       "    .dataframe thead th {\n",
       "        text-align: right;\n",
       "    }\n",
       "</style>\n",
       "<table border=\"1\" class=\"dataframe\">\n",
       "  <thead>\n",
       "    <tr style=\"text-align: right;\">\n",
       "      <th></th>\n",
       "      <th>company_name</th>\n",
       "      <th>registered</th>\n",
       "      <th>company_age</th>\n",
       "      <th>valid_address</th>\n",
       "      <th>domain_age</th>\n",
       "      <th>listed_in_gov_db</th>\n",
       "      <th>has_audited_reports</th>\n",
       "      <th>is_fraud</th>\n",
       "    </tr>\n",
       "  </thead>\n",
       "  <tbody>\n",
       "    <tr>\n",
       "      <th>0</th>\n",
       "      <td>Davis, Best and Garcia</td>\n",
       "      <td>0</td>\n",
       "      <td>19</td>\n",
       "      <td>0</td>\n",
       "      <td>11</td>\n",
       "      <td>1</td>\n",
       "      <td>1</td>\n",
       "      <td>1</td>\n",
       "    </tr>\n",
       "    <tr>\n",
       "      <th>1</th>\n",
       "      <td>Mathis-Stevens</td>\n",
       "      <td>1</td>\n",
       "      <td>18</td>\n",
       "      <td>0</td>\n",
       "      <td>16</td>\n",
       "      <td>0</td>\n",
       "      <td>1</td>\n",
       "      <td>1</td>\n",
       "    </tr>\n",
       "    <tr>\n",
       "      <th>2</th>\n",
       "      <td>Larson-Dean</td>\n",
       "      <td>1</td>\n",
       "      <td>11</td>\n",
       "      <td>0</td>\n",
       "      <td>19</td>\n",
       "      <td>0</td>\n",
       "      <td>0</td>\n",
       "      <td>1</td>\n",
       "    </tr>\n",
       "    <tr>\n",
       "      <th>3</th>\n",
       "      <td>Lutz-Brennan</td>\n",
       "      <td>1</td>\n",
       "      <td>46</td>\n",
       "      <td>0</td>\n",
       "      <td>4</td>\n",
       "      <td>1</td>\n",
       "      <td>1</td>\n",
       "      <td>0</td>\n",
       "    </tr>\n",
       "    <tr>\n",
       "      <th>4</th>\n",
       "      <td>Hansen-Palmer</td>\n",
       "      <td>0</td>\n",
       "      <td>10</td>\n",
       "      <td>1</td>\n",
       "      <td>20</td>\n",
       "      <td>1</td>\n",
       "      <td>0</td>\n",
       "      <td>1</td>\n",
       "    </tr>\n",
       "  </tbody>\n",
       "</table>\n",
       "</div>"
      ],
      "text/plain": [
       "             company_name  registered  company_age  valid_address  domain_age  \\\n",
       "0  Davis, Best and Garcia           0           19              0          11   \n",
       "1          Mathis-Stevens           1           18              0          16   \n",
       "2             Larson-Dean           1           11              0          19   \n",
       "3            Lutz-Brennan           1           46              0           4   \n",
       "4           Hansen-Palmer           0           10              1          20   \n",
       "\n",
       "   listed_in_gov_db  has_audited_reports  is_fraud  \n",
       "0                 1                    1         1  \n",
       "1                 0                    1         1  \n",
       "2                 0                    0         1  \n",
       "3                 1                    1         0  \n",
       "4                 1                    0         1  "
      ]
     },
     "execution_count": 58,
     "metadata": {},
     "output_type": "execute_result"
    }
   ],
   "source": [
    "df.head()"
   ]
  },
  {
   "cell_type": "code",
   "execution_count": 59,
   "id": "bd4c7995-5d54-4a90-a285-1a7d6ddd5458",
   "metadata": {},
   "outputs": [
    {
     "data": {
      "text/html": [
       "<div>\n",
       "<style scoped>\n",
       "    .dataframe tbody tr th:only-of-type {\n",
       "        vertical-align: middle;\n",
       "    }\n",
       "\n",
       "    .dataframe tbody tr th {\n",
       "        vertical-align: top;\n",
       "    }\n",
       "\n",
       "    .dataframe thead th {\n",
       "        text-align: right;\n",
       "    }\n",
       "</style>\n",
       "<table border=\"1\" class=\"dataframe\">\n",
       "  <thead>\n",
       "    <tr style=\"text-align: right;\">\n",
       "      <th></th>\n",
       "      <th>company_name</th>\n",
       "      <th>registered</th>\n",
       "      <th>company_age</th>\n",
       "      <th>valid_address</th>\n",
       "      <th>domain_age</th>\n",
       "      <th>listed_in_gov_db</th>\n",
       "      <th>has_audited_reports</th>\n",
       "      <th>is_fraud</th>\n",
       "    </tr>\n",
       "  </thead>\n",
       "  <tbody>\n",
       "    <tr>\n",
       "      <th>6995</th>\n",
       "      <td>Watson, Warren and Williams</td>\n",
       "      <td>1</td>\n",
       "      <td>26</td>\n",
       "      <td>1</td>\n",
       "      <td>9</td>\n",
       "      <td>1</td>\n",
       "      <td>0</td>\n",
       "      <td>1</td>\n",
       "    </tr>\n",
       "    <tr>\n",
       "      <th>6996</th>\n",
       "      <td>Conner-Benson</td>\n",
       "      <td>0</td>\n",
       "      <td>20</td>\n",
       "      <td>1</td>\n",
       "      <td>9</td>\n",
       "      <td>0</td>\n",
       "      <td>1</td>\n",
       "      <td>1</td>\n",
       "    </tr>\n",
       "    <tr>\n",
       "      <th>6997</th>\n",
       "      <td>Price PLC</td>\n",
       "      <td>0</td>\n",
       "      <td>7</td>\n",
       "      <td>1</td>\n",
       "      <td>16</td>\n",
       "      <td>1</td>\n",
       "      <td>0</td>\n",
       "      <td>1</td>\n",
       "    </tr>\n",
       "    <tr>\n",
       "      <th>6998</th>\n",
       "      <td>Brown-Graham</td>\n",
       "      <td>0</td>\n",
       "      <td>6</td>\n",
       "      <td>0</td>\n",
       "      <td>16</td>\n",
       "      <td>0</td>\n",
       "      <td>1</td>\n",
       "      <td>1</td>\n",
       "    </tr>\n",
       "    <tr>\n",
       "      <th>6999</th>\n",
       "      <td>Espinoza, Mills and Garcia</td>\n",
       "      <td>1</td>\n",
       "      <td>24</td>\n",
       "      <td>1</td>\n",
       "      <td>14</td>\n",
       "      <td>1</td>\n",
       "      <td>1</td>\n",
       "      <td>0</td>\n",
       "    </tr>\n",
       "  </tbody>\n",
       "</table>\n",
       "</div>"
      ],
      "text/plain": [
       "                     company_name  registered  company_age  valid_address  \\\n",
       "6995  Watson, Warren and Williams           1           26              1   \n",
       "6996                Conner-Benson           0           20              1   \n",
       "6997                    Price PLC           0            7              1   \n",
       "6998                 Brown-Graham           0            6              0   \n",
       "6999   Espinoza, Mills and Garcia           1           24              1   \n",
       "\n",
       "      domain_age  listed_in_gov_db  has_audited_reports  is_fraud  \n",
       "6995           9                 1                    0         1  \n",
       "6996           9                 0                    1         1  \n",
       "6997          16                 1                    0         1  \n",
       "6998          16                 0                    1         1  \n",
       "6999          14                 1                    1         0  "
      ]
     },
     "execution_count": 59,
     "metadata": {},
     "output_type": "execute_result"
    }
   ],
   "source": [
    "df.tail()"
   ]
  },
  {
   "cell_type": "code",
   "execution_count": 60,
   "id": "04ccf5c8-c52e-44b1-8043-b7dfbaee7eb4",
   "metadata": {},
   "outputs": [
    {
     "name": "stdout",
     "output_type": "stream",
     "text": [
      "<class 'pandas.core.frame.DataFrame'>\n",
      "RangeIndex: 7000 entries, 0 to 6999\n",
      "Data columns (total 8 columns):\n",
      " #   Column               Non-Null Count  Dtype \n",
      "---  ------               --------------  ----- \n",
      " 0   company_name         7000 non-null   object\n",
      " 1   registered           7000 non-null   int64 \n",
      " 2   company_age          7000 non-null   int64 \n",
      " 3   valid_address        7000 non-null   int64 \n",
      " 4   domain_age           7000 non-null   int64 \n",
      " 5   listed_in_gov_db     7000 non-null   int64 \n",
      " 6   has_audited_reports  7000 non-null   int64 \n",
      " 7   is_fraud             7000 non-null   int64 \n",
      "dtypes: int64(7), object(1)\n",
      "memory usage: 437.6+ KB\n"
     ]
    }
   ],
   "source": [
    "df.info()"
   ]
  },
  {
   "cell_type": "code",
   "execution_count": 61,
   "id": "853b5e6a-9874-4eda-a6f1-5e73a431f1f3",
   "metadata": {},
   "outputs": [
    {
     "data": {
      "text/html": [
       "<div>\n",
       "<style scoped>\n",
       "    .dataframe tbody tr th:only-of-type {\n",
       "        vertical-align: middle;\n",
       "    }\n",
       "\n",
       "    .dataframe tbody tr th {\n",
       "        vertical-align: top;\n",
       "    }\n",
       "\n",
       "    .dataframe thead th {\n",
       "        text-align: right;\n",
       "    }\n",
       "</style>\n",
       "<table border=\"1\" class=\"dataframe\">\n",
       "  <thead>\n",
       "    <tr style=\"text-align: right;\">\n",
       "      <th></th>\n",
       "      <th>registered</th>\n",
       "      <th>company_age</th>\n",
       "      <th>valid_address</th>\n",
       "      <th>domain_age</th>\n",
       "      <th>listed_in_gov_db</th>\n",
       "      <th>has_audited_reports</th>\n",
       "      <th>is_fraud</th>\n",
       "    </tr>\n",
       "  </thead>\n",
       "  <tbody>\n",
       "    <tr>\n",
       "      <th>count</th>\n",
       "      <td>7000.000000</td>\n",
       "      <td>7000.000000</td>\n",
       "      <td>7000.000000</td>\n",
       "      <td>7000.000000</td>\n",
       "      <td>7000.000000</td>\n",
       "      <td>7000.000000</td>\n",
       "      <td>7000.000000</td>\n",
       "    </tr>\n",
       "    <tr>\n",
       "      <th>mean</th>\n",
       "      <td>0.511714</td>\n",
       "      <td>25.176714</td>\n",
       "      <td>0.505143</td>\n",
       "      <td>10.091571</td>\n",
       "      <td>0.507000</td>\n",
       "      <td>0.499857</td>\n",
       "      <td>0.888714</td>\n",
       "    </tr>\n",
       "    <tr>\n",
       "      <th>std</th>\n",
       "      <td>0.499898</td>\n",
       "      <td>14.614728</td>\n",
       "      <td>0.500009</td>\n",
       "      <td>6.057805</td>\n",
       "      <td>0.499987</td>\n",
       "      <td>0.500036</td>\n",
       "      <td>0.314508</td>\n",
       "    </tr>\n",
       "    <tr>\n",
       "      <th>min</th>\n",
       "      <td>0.000000</td>\n",
       "      <td>0.000000</td>\n",
       "      <td>0.000000</td>\n",
       "      <td>0.000000</td>\n",
       "      <td>0.000000</td>\n",
       "      <td>0.000000</td>\n",
       "      <td>0.000000</td>\n",
       "    </tr>\n",
       "    <tr>\n",
       "      <th>25%</th>\n",
       "      <td>0.000000</td>\n",
       "      <td>13.000000</td>\n",
       "      <td>0.000000</td>\n",
       "      <td>5.000000</td>\n",
       "      <td>0.000000</td>\n",
       "      <td>0.000000</td>\n",
       "      <td>1.000000</td>\n",
       "    </tr>\n",
       "    <tr>\n",
       "      <th>50%</th>\n",
       "      <td>1.000000</td>\n",
       "      <td>25.000000</td>\n",
       "      <td>1.000000</td>\n",
       "      <td>10.000000</td>\n",
       "      <td>1.000000</td>\n",
       "      <td>0.000000</td>\n",
       "      <td>1.000000</td>\n",
       "    </tr>\n",
       "    <tr>\n",
       "      <th>75%</th>\n",
       "      <td>1.000000</td>\n",
       "      <td>38.000000</td>\n",
       "      <td>1.000000</td>\n",
       "      <td>15.000000</td>\n",
       "      <td>1.000000</td>\n",
       "      <td>1.000000</td>\n",
       "      <td>1.000000</td>\n",
       "    </tr>\n",
       "    <tr>\n",
       "      <th>max</th>\n",
       "      <td>1.000000</td>\n",
       "      <td>50.000000</td>\n",
       "      <td>1.000000</td>\n",
       "      <td>20.000000</td>\n",
       "      <td>1.000000</td>\n",
       "      <td>1.000000</td>\n",
       "      <td>1.000000</td>\n",
       "    </tr>\n",
       "  </tbody>\n",
       "</table>\n",
       "</div>"
      ],
      "text/plain": [
       "        registered  company_age  valid_address   domain_age  listed_in_gov_db  \\\n",
       "count  7000.000000  7000.000000    7000.000000  7000.000000       7000.000000   \n",
       "mean      0.511714    25.176714       0.505143    10.091571          0.507000   \n",
       "std       0.499898    14.614728       0.500009     6.057805          0.499987   \n",
       "min       0.000000     0.000000       0.000000     0.000000          0.000000   \n",
       "25%       0.000000    13.000000       0.000000     5.000000          0.000000   \n",
       "50%       1.000000    25.000000       1.000000    10.000000          1.000000   \n",
       "75%       1.000000    38.000000       1.000000    15.000000          1.000000   \n",
       "max       1.000000    50.000000       1.000000    20.000000          1.000000   \n",
       "\n",
       "       has_audited_reports     is_fraud  \n",
       "count          7000.000000  7000.000000  \n",
       "mean              0.499857     0.888714  \n",
       "std               0.500036     0.314508  \n",
       "min               0.000000     0.000000  \n",
       "25%               0.000000     1.000000  \n",
       "50%               0.000000     1.000000  \n",
       "75%               1.000000     1.000000  \n",
       "max               1.000000     1.000000  "
      ]
     },
     "execution_count": 61,
     "metadata": {},
     "output_type": "execute_result"
    }
   ],
   "source": [
    "df.describe()"
   ]
  },
  {
   "cell_type": "code",
   "execution_count": 62,
   "id": "5ae86fc3-b5ca-439b-b13a-f4ab3ed8f6db",
   "metadata": {},
   "outputs": [
    {
     "data": {
      "text/html": [
       "<div>\n",
       "<style scoped>\n",
       "    .dataframe tbody tr th:only-of-type {\n",
       "        vertical-align: middle;\n",
       "    }\n",
       "\n",
       "    .dataframe tbody tr th {\n",
       "        vertical-align: top;\n",
       "    }\n",
       "\n",
       "    .dataframe thead th {\n",
       "        text-align: right;\n",
       "    }\n",
       "</style>\n",
       "<table border=\"1\" class=\"dataframe\">\n",
       "  <thead>\n",
       "    <tr style=\"text-align: right;\">\n",
       "      <th></th>\n",
       "      <th>company_name</th>\n",
       "    </tr>\n",
       "  </thead>\n",
       "  <tbody>\n",
       "    <tr>\n",
       "      <th>count</th>\n",
       "      <td>7000</td>\n",
       "    </tr>\n",
       "    <tr>\n",
       "      <th>unique</th>\n",
       "      <td>6256</td>\n",
       "    </tr>\n",
       "    <tr>\n",
       "      <th>top</th>\n",
       "      <td>Johnson and Sons</td>\n",
       "    </tr>\n",
       "    <tr>\n",
       "      <th>freq</th>\n",
       "      <td>12</td>\n",
       "    </tr>\n",
       "  </tbody>\n",
       "</table>\n",
       "</div>"
      ],
      "text/plain": [
       "            company_name\n",
       "count               7000\n",
       "unique              6256\n",
       "top     Johnson and Sons\n",
       "freq                  12"
      ]
     },
     "execution_count": 62,
     "metadata": {},
     "output_type": "execute_result"
    }
   ],
   "source": [
    "df.describe(include='O')"
   ]
  },
  {
   "cell_type": "markdown",
   "id": "0ec90792-eed2-4c96-8b97-cb896a492870",
   "metadata": {},
   "source": [
    "## EDA"
   ]
  },
  {
   "cell_type": "markdown",
   "id": "c4677b8e-6ba1-478b-b77a-29d58e49669d",
   "metadata": {},
   "source": [
    "#### Univariate Analysis"
   ]
  },
  {
   "cell_type": "markdown",
   "id": "f6032d1d-a075-414e-bf5f-97b4f6f1ccd7",
   "metadata": {},
   "source": [
    "for int data"
   ]
  },
  {
   "cell_type": "code",
   "execution_count": 63,
   "id": "29369a31-7c65-4f2a-9f35-26ad7afc28fe",
   "metadata": {},
   "outputs": [
    {
     "data": {
      "text/plain": [
       "Index(['company_name', 'registered', 'company_age', 'valid_address',\n",
       "       'domain_age', 'listed_in_gov_db', 'has_audited_reports', 'is_fraud'],\n",
       "      dtype='object')"
      ]
     },
     "execution_count": 63,
     "metadata": {},
     "output_type": "execute_result"
    }
   ],
   "source": [
    "df.columns"
   ]
  },
  {
   "cell_type": "code",
   "execution_count": 64,
   "id": "cd3d38fa-61e7-4d9e-816a-e29b7670c458",
   "metadata": {},
   "outputs": [],
   "source": [
    "df1 = ['registered', 'company_age', 'valid_address',\n",
    "       'domain_age', 'listed_in_gov_db', 'has_audited_reports']\n"
   ]
  },
  {
   "cell_type": "code",
   "execution_count": 65,
   "id": "2855cd00-fa88-4fef-af5a-76e3c9daf700",
   "metadata": {},
   "outputs": [
    {
     "data": {
      "image/png": "[encoded data removed]",
      "text/plain": [
       "<Figure size 2000x1000 with 6 Axes>"
      ]
     },
     "metadata": {},
     "output_type": "display_data"
    }
   ],
   "source": [
    "plotnumber = 1\n",
    "plt.figure(figsize=(20, 10))\n",
    "for col in df1:\n",
    "    plt.subplot(3, 3, plotnumber)\n",
    "    sns.histplot(data=df, x=col)\n",
    "    plt.title(col)\n",
    "    plotnumber += 1\n",
    "plt.tight_layout()\n",
    "plt.show()"
   ]
  },
  {
   "cell_type": "markdown",
   "id": "767874f7-1b96-4de4-8ca8-1cc671e67385",
   "metadata": {},
   "source": [
    "for object data"
   ]
  },
  {
   "cell_type": "code",
   "execution_count": null,
   "id": "aaf5a158-248c-49ca-b54f-02f2e2187444",
   "metadata": {},
   "outputs": [],
   "source": []
  },
  {
   "cell_type": "markdown",
   "id": "cb01b21c-952a-44fb-8c81-69098461de56",
   "metadata": {},
   "source": [
    "### Bivariate ananlysis"
   ]
  },
  {
   "cell_type": "code",
   "execution_count": 66,
   "id": "2a6e81fa-0665-4b77-931e-c1e97e65c15b",
   "metadata": {},
   "outputs": [
    {
     "data": {
      "image/png": "[encoded data removed]",
      "text/plain": [
       "<Figure size 2000x1000 with 6 Axes>"
      ]
     },
     "metadata": {},
     "output_type": "display_data"
    }
   ],
   "source": [
    "plotnumber = 1\n",
    "plt.figure(figsize=(20, 10))\n",
    "for col in df1:\n",
    "    plt.subplot(3, 3, plotnumber)\n",
    "    sns.histplot(data=df, x=col,hue=df.is_fraud)\n",
    "    plt.title(col)\n",
    "    plotnumber += 1\n",
    "plt.tight_layout()\n",
    "plt.show()"
   ]
  },
  {
   "cell_type": "markdown",
   "id": "42affa2e-8b80-4ffe-b040-303f99eb635d",
   "metadata": {},
   "source": [
    "## Data Preprocessing"
   ]
  },
  {
   "cell_type": "code",
   "execution_count": 67,
   "id": "044402ed-405c-455d-bde5-926efb793f61",
   "metadata": {},
   "outputs": [
    {
     "data": {
      "text/plain": [
       "company_name           0\n",
       "registered             0\n",
       "company_age            0\n",
       "valid_address          0\n",
       "domain_age             0\n",
       "listed_in_gov_db       0\n",
       "has_audited_reports    0\n",
       "is_fraud               0\n",
       "dtype: int64"
      ]
     },
     "execution_count": 67,
     "metadata": {},
     "output_type": "execute_result"
    }
   ],
   "source": [
    "df.isnull().sum()"
   ]
  },
  {
   "cell_type": "markdown",
   "id": "dcd2a599-fb07-4e9b-ac24-122fb60c34ce",
   "metadata": {},
   "source": [
    "## Handling with Outliers"
   ]
  },
  {
   "cell_type": "code",
   "execution_count": 68,
   "id": "6847d94d-ff71-4c04-83bd-d7caf0afb277",
   "metadata": {},
   "outputs": [
    {
     "data": {
      "image/png": "[encoded data removed]",
      "text/plain": [
       "<Figure size 2000x2000 with 6 Axes>"
      ]
     },
     "metadata": {},
     "output_type": "display_data"
    }
   ],
   "source": [
    "plt.figure(figsize=(20,20))\n",
    "plotnumber=1\n",
    "for col in df1:\n",
    "    plt.subplot(3,3,plotnumber)\n",
    "    sns.boxplot(data=df, x=col)\n",
    "    plt.xticks(rotation=40)\n",
    "    plotnumber=plotnumber+1\n",
    "plt.tight_layout()"
   ]
  },
  {
   "cell_type": "markdown",
   "id": "fd28c34d-48f7-458f-9830-f5a8632d81c8",
   "metadata": {},
   "source": [
    "## Conversion of Categorical data to Numrical & Scaling of features"
   ]
  },
  {
   "cell_type": "markdown",
   "id": "66ef2033-06ff-4f00-9eff-557bb1d5aa1e",
   "metadata": {},
   "source": [
    "#### this data set have no categorical data and one categorical colume is redeant colum"
   ]
  },
  {
   "cell_type": "code",
   "execution_count": null,
   "id": "39cc1a0e-005c-487d-a8cd-fadef2653c2d",
   "metadata": {},
   "outputs": [],
   "source": []
  },
  {
   "cell_type": "markdown",
   "id": "8fdbb9b1-d64b-4a00-9f70-a75b16002455",
   "metadata": {},
   "source": [
    "## Feature Selection"
   ]
  },
  {
   "cell_type": "markdown",
   "id": "a298fa12-ff12-43fd-912f-65f7a0acf73b",
   "metadata": {},
   "source": [
    "### 1)Dropping Redundant Column:"
   ]
  },
  {
   "cell_type": "code",
   "execution_count": 69,
   "id": "45bd918b-59e7-4322-908e-d77b38c2d3fb",
   "metadata": {},
   "outputs": [],
   "source": [
    "df.drop('company_name' ,axis=1,inplace=True)"
   ]
  },
  {
   "cell_type": "code",
   "execution_count": 70,
   "id": "7f82e597-d877-449c-af2d-135441ea5441",
   "metadata": {},
   "outputs": [
    {
     "data": {
      "text/html": [
       "<div>\n",
       "<style scoped>\n",
       "    .dataframe tbody tr th:only-of-type {\n",
       "        vertical-align: middle;\n",
       "    }\n",
       "\n",
       "    .dataframe tbody tr th {\n",
       "        vertical-align: top;\n",
       "    }\n",
       "\n",
       "    .dataframe thead th {\n",
       "        text-align: right;\n",
       "    }\n",
       "</style>\n",
       "<table border=\"1\" class=\"dataframe\">\n",
       "  <thead>\n",
       "    <tr style=\"text-align: right;\">\n",
       "      <th></th>\n",
       "      <th>registered</th>\n",
       "      <th>company_age</th>\n",
       "      <th>valid_address</th>\n",
       "      <th>domain_age</th>\n",
       "      <th>listed_in_gov_db</th>\n",
       "      <th>has_audited_reports</th>\n",
       "      <th>is_fraud</th>\n",
       "    </tr>\n",
       "  </thead>\n",
       "  <tbody>\n",
       "    <tr>\n",
       "      <th>0</th>\n",
       "      <td>0</td>\n",
       "      <td>19</td>\n",
       "      <td>0</td>\n",
       "      <td>11</td>\n",
       "      <td>1</td>\n",
       "      <td>1</td>\n",
       "      <td>1</td>\n",
       "    </tr>\n",
       "    <tr>\n",
       "      <th>1</th>\n",
       "      <td>1</td>\n",
       "      <td>18</td>\n",
       "      <td>0</td>\n",
       "      <td>16</td>\n",
       "      <td>0</td>\n",
       "      <td>1</td>\n",
       "      <td>1</td>\n",
       "    </tr>\n",
       "    <tr>\n",
       "      <th>2</th>\n",
       "      <td>1</td>\n",
       "      <td>11</td>\n",
       "      <td>0</td>\n",
       "      <td>19</td>\n",
       "      <td>0</td>\n",
       "      <td>0</td>\n",
       "      <td>1</td>\n",
       "    </tr>\n",
       "    <tr>\n",
       "      <th>3</th>\n",
       "      <td>1</td>\n",
       "      <td>46</td>\n",
       "      <td>0</td>\n",
       "      <td>4</td>\n",
       "      <td>1</td>\n",
       "      <td>1</td>\n",
       "      <td>0</td>\n",
       "    </tr>\n",
       "    <tr>\n",
       "      <th>4</th>\n",
       "      <td>0</td>\n",
       "      <td>10</td>\n",
       "      <td>1</td>\n",
       "      <td>20</td>\n",
       "      <td>1</td>\n",
       "      <td>0</td>\n",
       "      <td>1</td>\n",
       "    </tr>\n",
       "  </tbody>\n",
       "</table>\n",
       "</div>"
      ],
      "text/plain": [
       "   registered  company_age  valid_address  domain_age  listed_in_gov_db  \\\n",
       "0           0           19              0          11                 1   \n",
       "1           1           18              0          16                 0   \n",
       "2           1           11              0          19                 0   \n",
       "3           1           46              0           4                 1   \n",
       "4           0           10              1          20                 1   \n",
       "\n",
       "   has_audited_reports  is_fraud  \n",
       "0                    1         1  \n",
       "1                    1         1  \n",
       "2                    0         1  \n",
       "3                    1         0  \n",
       "4                    0         1  "
      ]
     },
     "execution_count": 70,
     "metadata": {},
     "output_type": "execute_result"
    }
   ],
   "source": [
    "df.head()"
   ]
  },
  {
   "cell_type": "markdown",
   "id": "19edf17e-6ccf-40db-bb73-fa8c1b03f419",
   "metadata": {},
   "source": [
    "## Finding Correlation between Features"
   ]
  },
  {
   "cell_type": "code",
   "execution_count": 71,
   "id": "d4a44294-ef86-4186-9dbd-368284879b51",
   "metadata": {},
   "outputs": [
    {
     "data": {
      "text/plain": [
       "<Axes: >"
      ]
     },
     "execution_count": 71,
     "metadata": {},
     "output_type": "execute_result"
    },
    {
     "data": {
      "image/png": "[encoded data removed]",
      "text/plain": [
       "<Figure size 640x480 with 2 Axes>"
      ]
     },
     "metadata": {},
     "output_type": "display_data"
    }
   ],
   "source": [
    "sns.heatmap(df.drop('is_fraud',axis=1).corr(),annot=True)"
   ]
  },
  {
   "cell_type": "markdown",
   "id": "445eb206-9b2c-428c-84a3-161425094609",
   "metadata": {},
   "source": [
    "### There is no corrleation found between any two columns¶"
   ]
  },
  {
   "cell_type": "markdown",
   "id": "17894ebd-51ff-4b9e-805a-79e6e2cef5ea",
   "metadata": {},
   "source": [
    "# Model Creation"
   ]
  },
  {
   "cell_type": "code",
   "execution_count": 72,
   "id": "d5a3678e-ad68-4634-b168-e780c6aa478c",
   "metadata": {},
   "outputs": [
    {
     "data": {
      "text/html": [
       "<div>\n",
       "<style scoped>\n",
       "    .dataframe tbody tr th:only-of-type {\n",
       "        vertical-align: middle;\n",
       "    }\n",
       "\n",
       "    .dataframe tbody tr th {\n",
       "        vertical-align: top;\n",
       "    }\n",
       "\n",
       "    .dataframe thead th {\n",
       "        text-align: right;\n",
       "    }\n",
       "</style>\n",
       "<table border=\"1\" class=\"dataframe\">\n",
       "  <thead>\n",
       "    <tr style=\"text-align: right;\">\n",
       "      <th></th>\n",
       "      <th>registered</th>\n",
       "      <th>company_age</th>\n",
       "      <th>valid_address</th>\n",
       "      <th>domain_age</th>\n",
       "      <th>listed_in_gov_db</th>\n",
       "      <th>has_audited_reports</th>\n",
       "    </tr>\n",
       "  </thead>\n",
       "  <tbody>\n",
       "    <tr>\n",
       "      <th>0</th>\n",
       "      <td>0</td>\n",
       "      <td>19</td>\n",
       "      <td>0</td>\n",
       "      <td>11</td>\n",
       "      <td>1</td>\n",
       "      <td>1</td>\n",
       "    </tr>\n",
       "    <tr>\n",
       "      <th>1</th>\n",
       "      <td>1</td>\n",
       "      <td>18</td>\n",
       "      <td>0</td>\n",
       "      <td>16</td>\n",
       "      <td>0</td>\n",
       "      <td>1</td>\n",
       "    </tr>\n",
       "    <tr>\n",
       "      <th>2</th>\n",
       "      <td>1</td>\n",
       "      <td>11</td>\n",
       "      <td>0</td>\n",
       "      <td>19</td>\n",
       "      <td>0</td>\n",
       "      <td>0</td>\n",
       "    </tr>\n",
       "    <tr>\n",
       "      <th>3</th>\n",
       "      <td>1</td>\n",
       "      <td>46</td>\n",
       "      <td>0</td>\n",
       "      <td>4</td>\n",
       "      <td>1</td>\n",
       "      <td>1</td>\n",
       "    </tr>\n",
       "    <tr>\n",
       "      <th>4</th>\n",
       "      <td>0</td>\n",
       "      <td>10</td>\n",
       "      <td>1</td>\n",
       "      <td>20</td>\n",
       "      <td>1</td>\n",
       "      <td>0</td>\n",
       "    </tr>\n",
       "    <tr>\n",
       "      <th>...</th>\n",
       "      <td>...</td>\n",
       "      <td>...</td>\n",
       "      <td>...</td>\n",
       "      <td>...</td>\n",
       "      <td>...</td>\n",
       "      <td>...</td>\n",
       "    </tr>\n",
       "    <tr>\n",
       "      <th>6995</th>\n",
       "      <td>1</td>\n",
       "      <td>26</td>\n",
       "      <td>1</td>\n",
       "      <td>9</td>\n",
       "      <td>1</td>\n",
       "      <td>0</td>\n",
       "    </tr>\n",
       "    <tr>\n",
       "      <th>6996</th>\n",
       "      <td>0</td>\n",
       "      <td>20</td>\n",
       "      <td>1</td>\n",
       "      <td>9</td>\n",
       "      <td>0</td>\n",
       "      <td>1</td>\n",
       "    </tr>\n",
       "    <tr>\n",
       "      <th>6997</th>\n",
       "      <td>0</td>\n",
       "      <td>7</td>\n",
       "      <td>1</td>\n",
       "      <td>16</td>\n",
       "      <td>1</td>\n",
       "      <td>0</td>\n",
       "    </tr>\n",
       "    <tr>\n",
       "      <th>6998</th>\n",
       "      <td>0</td>\n",
       "      <td>6</td>\n",
       "      <td>0</td>\n",
       "      <td>16</td>\n",
       "      <td>0</td>\n",
       "      <td>1</td>\n",
       "    </tr>\n",
       "    <tr>\n",
       "      <th>6999</th>\n",
       "      <td>1</td>\n",
       "      <td>24</td>\n",
       "      <td>1</td>\n",
       "      <td>14</td>\n",
       "      <td>1</td>\n",
       "      <td>1</td>\n",
       "    </tr>\n",
       "  </tbody>\n",
       "</table>\n",
       "<p>7000 rows × 6 columns</p>\n",
       "</div>"
      ],
      "text/plain": [
       "      registered  company_age  valid_address  domain_age  listed_in_gov_db  \\\n",
       "0              0           19              0          11                 1   \n",
       "1              1           18              0          16                 0   \n",
       "2              1           11              0          19                 0   \n",
       "3              1           46              0           4                 1   \n",
       "4              0           10              1          20                 1   \n",
       "...          ...          ...            ...         ...               ...   \n",
       "6995           1           26              1           9                 1   \n",
       "6996           0           20              1           9                 0   \n",
       "6997           0            7              1          16                 1   \n",
       "6998           0            6              0          16                 0   \n",
       "6999           1           24              1          14                 1   \n",
       "\n",
       "      has_audited_reports  \n",
       "0                       1  \n",
       "1                       1  \n",
       "2                       0  \n",
       "3                       1  \n",
       "4                       0  \n",
       "...                   ...  \n",
       "6995                    0  \n",
       "6996                    1  \n",
       "6997                    0  \n",
       "6998                    1  \n",
       "6999                    1  \n",
       "\n",
       "[7000 rows x 6 columns]"
      ]
     },
     "execution_count": 72,
     "metadata": {},
     "output_type": "execute_result"
    }
   ],
   "source": [
    "x=df.drop('is_fraud',axis=1)\n",
    "x"
   ]
  },
  {
   "cell_type": "code",
   "execution_count": 73,
   "id": "20b9873e-58a6-447a-8aad-05b37e29e38d",
   "metadata": {},
   "outputs": [
    {
     "data": {
      "text/plain": [
       "0       1\n",
       "1       1\n",
       "2       1\n",
       "3       0\n",
       "4       1\n",
       "       ..\n",
       "6995    1\n",
       "6996    1\n",
       "6997    1\n",
       "6998    1\n",
       "6999    0\n",
       "Name: is_fraud, Length: 7000, dtype: int64"
      ]
     },
     "execution_count": 73,
     "metadata": {},
     "output_type": "execute_result"
    }
   ],
   "source": [
    "y=df.is_fraud\n",
    "y"
   ]
  },
  {
   "cell_type": "code",
   "execution_count": 74,
   "id": "0af29b57-e3f0-445e-9e4e-b8fe2da32304",
   "metadata": {},
   "outputs": [],
   "source": [
    "from sklearn.model_selection import train_test_split"
   ]
  },
  {
   "cell_type": "code",
   "execution_count": 75,
   "id": "bcaa8ef0-94ca-48c0-bc43-2f71ef0a0892",
   "metadata": {},
   "outputs": [],
   "source": [
    "x_train,x_test,y_train,y_test=train_test_split(x,y,test_size=0.24,random_state=42)"
   ]
  },
  {
   "cell_type": "code",
   "execution_count": 76,
   "id": "b80a2641-0d08-4f6d-bf8d-2b692a5917c5",
   "metadata": {},
   "outputs": [
    {
     "name": "stdout",
     "output_type": "stream",
     "text": [
      "(5320, 6)\n",
      "(1680, 6)\n",
      "(5320,)\n",
      "(1680,)\n"
     ]
    }
   ],
   "source": [
    "print(x_train.shape)\n",
    "print(x_test.shape)\n",
    "print(y_train.shape)\n",
    "print(y_test.shape)"
   ]
  },
  {
   "cell_type": "markdown",
   "id": "f14bc6c0-c93b-4700-9c8e-c7795677697f",
   "metadata": {},
   "source": [
    "# Logistics_Regression"
   ]
  },
  {
   "cell_type": "code",
   "execution_count": 77,
   "id": "7b685486-c14d-4026-81e1-99487111fc23",
   "metadata": {},
   "outputs": [],
   "source": [
    "from sklearn.linear_model import LogisticRegression\n",
    "LR=LogisticRegression()"
   ]
  },
  {
   "cell_type": "code",
   "execution_count": 119,
   "id": "f63e7b48-64cd-4dd5-ac65-cb85b4eee2d2",
   "metadata": {},
   "outputs": [
    {
     "data": {
      "text/html": [
       "<style>#sk-container-id-4 {color: black;background-color: white;}#sk-container-id-4 pre{padding: 0;}#sk-container-id-4 div.sk-toggleable {background-color: white;}#sk-container-id-4 label.sk-toggleable__label {cursor: pointer;display: block;width: 100%;margin-bottom: 0;padding: 0.3em;box-sizing: border-box;text-align: center;}#sk-container-id-4 label.sk-toggleable__label-arrow:before {content: \"▸\";float: left;margin-right: 0.25em;color: #696969;}#sk-container-id-4 label.sk-toggleable__label-arrow:hover:before {color: black;}#sk-container-id-4 div.sk-estimator:hover label.sk-toggleable__label-arrow:before {color: black;}#sk-container-id-4 div.sk-toggleable__content {max-height: 0;max-width: 0;overflow: hidden;text-align: left;background-color: #f0f8ff;}#sk-container-id-4 div.sk-toggleable__content pre {margin: 0.2em;color: black;border-radius: 0.25em;background-color: #f0f8ff;}#sk-container-id-4 input.sk-toggleable__control:checked~div.sk-toggleable__content {max-height: 200px;max-width: 100%;overflow: auto;}#sk-container-id-4 input.sk-toggleable__control:checked~label.sk-toggleable__label-arrow:before {content: \"▾\";}#sk-container-id-4 div.sk-estimator input.sk-toggleable__control:checked~label.sk-toggleable__label {background-color: #d4ebff;}#sk-container-id-4 div.sk-label input.sk-toggleable__control:checked~label.sk-toggleable__label {background-color: #d4ebff;}#sk-container-id-4 input.sk-hidden--visually {border: 0;clip: rect(1px 1px 1px 1px);clip: rect(1px, 1px, 1px, 1px);height: 1px;margin: -1px;overflow: hidden;padding: 0;position: absolute;width: 1px;}#sk-container-id-4 div.sk-estimator {font-family: monospace;background-color: #f0f8ff;border: 1px dotted black;border-radius: 0.25em;box-sizing: border-box;margin-bottom: 0.5em;}#sk-container-id-4 div.sk-estimator:hover {background-color: #d4ebff;}#sk-container-id-4 div.sk-parallel-item::after {content: \"\";width: 100%;border-bottom: 1px solid gray;flex-grow: 1;}#sk-container-id-4 div.sk-label:hover label.sk-toggleable__label {background-color: #d4ebff;}#sk-container-id-4 div.sk-serial::before {content: \"\";position: absolute;border-left: 1px solid gray;box-sizing: border-box;top: 0;bottom: 0;left: 50%;z-index: 0;}#sk-container-id-4 div.sk-serial {display: flex;flex-direction: column;align-items: center;background-color: white;padding-right: 0.2em;padding-left: 0.2em;position: relative;}#sk-container-id-4 div.sk-item {position: relative;z-index: 1;}#sk-container-id-4 div.sk-parallel {display: flex;align-items: stretch;justify-content: center;background-color: white;position: relative;}#sk-container-id-4 div.sk-item::before, #sk-container-id-4 div.sk-parallel-item::before {content: \"\";position: absolute;border-left: 1px solid gray;box-sizing: border-box;top: 0;bottom: 0;left: 50%;z-index: -1;}#sk-container-id-4 div.sk-parallel-item {display: flex;flex-direction: column;z-index: 1;position: relative;background-color: white;}#sk-container-id-4 div.sk-parallel-item:first-child::after {align-self: flex-end;width: 50%;}#sk-container-id-4 div.sk-parallel-item:last-child::after {align-self: flex-start;width: 50%;}#sk-container-id-4 div.sk-parallel-item:only-child::after {width: 0;}#sk-container-id-4 div.sk-dashed-wrapped {border: 1px dashed gray;margin: 0 0.4em 0.5em 0.4em;box-sizing: border-box;padding-bottom: 0.4em;background-color: white;}#sk-container-id-4 div.sk-label label {font-family: monospace;font-weight: bold;display: inline-block;line-height: 1.2em;}#sk-container-id-4 div.sk-label-container {text-align: center;}#sk-container-id-4 div.sk-container {/* jupyter's `normalize.less` sets `[hidden] { display: none; }` but bootstrap.min.css set `[hidden] { display: none !important; }` so we also need the `!important` here to be able to override the default hidden behavior on the sphinx rendered scikit-learn.org. See: https://github.com/scikit-learn/scikit-learn/issues/21755 */display: inline-block !important;position: relative;}#sk-container-id-4 div.sk-text-repr-fallback {display: none;}</style><div id=\"sk-container-id-4\" class=\"sk-top-container\"><div class=\"sk-text-repr-fallback\"><pre>LogisticRegression()</pre><b>In a Jupyter environment, please rerun this cell to show the HTML representation or trust the notebook. <br />On GitHub, the HTML representation is unable to render, please try loading this page with nbviewer.org.</b></div><div class=\"sk-container\" hidden><div class=\"sk-item\"><div class=\"sk-estimator sk-toggleable\"><input class=\"sk-toggleable__control sk-hidden--visually\" id=\"sk-estimator-id-4\" type=\"checkbox\" checked><label for=\"sk-estimator-id-4\" class=\"sk-toggleable__label sk-toggleable__label-arrow\">LogisticRegression</label><div class=\"sk-toggleable__content\"><pre>LogisticRegression()</pre></div></div></div></div></div>"
      ],
      "text/plain": [
       "LogisticRegression()"
      ]
     },
     "execution_count": 119,
     "metadata": {},
     "output_type": "execute_result"
    }
   ],
   "source": [
    "LR.fit(x_train,y_train)"
   ]
  },
  {
   "cell_type": "code",
   "execution_count": 120,
   "id": "68f3fb4a-9d6a-4bfd-8f37-0573edb014e5",
   "metadata": {},
   "outputs": [
    {
     "data": {
      "text/plain": [
       "array([1, 1, 1, ..., 1, 1, 1], dtype=int64)"
      ]
     },
     "execution_count": 120,
     "metadata": {},
     "output_type": "execute_result"
    }
   ],
   "source": [
    "y_pred=LR.predict(x_test)\n",
    "y_pred"
   ]
  },
  {
   "cell_type": "code",
   "execution_count": 121,
   "id": "2371858e-3931-42a5-91c3-d3a74531a8bd",
   "metadata": {},
   "outputs": [
    {
     "data": {
      "text/html": [
       "<div>\n",
       "<style scoped>\n",
       "    .dataframe tbody tr th:only-of-type {\n",
       "        vertical-align: middle;\n",
       "    }\n",
       "\n",
       "    .dataframe tbody tr th {\n",
       "        vertical-align: top;\n",
       "    }\n",
       "\n",
       "    .dataframe thead th {\n",
       "        text-align: right;\n",
       "    }\n",
       "</style>\n",
       "<table border=\"1\" class=\"dataframe\">\n",
       "  <thead>\n",
       "    <tr style=\"text-align: right;\">\n",
       "      <th></th>\n",
       "      <th>registered</th>\n",
       "      <th>company_age</th>\n",
       "      <th>valid_address</th>\n",
       "      <th>domain_age</th>\n",
       "      <th>listed_in_gov_db</th>\n",
       "      <th>has_audited_reports</th>\n",
       "    </tr>\n",
       "  </thead>\n",
       "  <tbody>\n",
       "    <tr>\n",
       "      <th>6500</th>\n",
       "      <td>0</td>\n",
       "      <td>47</td>\n",
       "      <td>0</td>\n",
       "      <td>11</td>\n",
       "      <td>0</td>\n",
       "      <td>1</td>\n",
       "    </tr>\n",
       "    <tr>\n",
       "      <th>2944</th>\n",
       "      <td>1</td>\n",
       "      <td>23</td>\n",
       "      <td>0</td>\n",
       "      <td>7</td>\n",
       "      <td>1</td>\n",
       "      <td>0</td>\n",
       "    </tr>\n",
       "    <tr>\n",
       "      <th>2024</th>\n",
       "      <td>0</td>\n",
       "      <td>24</td>\n",
       "      <td>0</td>\n",
       "      <td>13</td>\n",
       "      <td>1</td>\n",
       "      <td>1</td>\n",
       "    </tr>\n",
       "    <tr>\n",
       "      <th>263</th>\n",
       "      <td>1</td>\n",
       "      <td>5</td>\n",
       "      <td>0</td>\n",
       "      <td>20</td>\n",
       "      <td>1</td>\n",
       "      <td>1</td>\n",
       "    </tr>\n",
       "    <tr>\n",
       "      <th>4350</th>\n",
       "      <td>0</td>\n",
       "      <td>10</td>\n",
       "      <td>1</td>\n",
       "      <td>17</td>\n",
       "      <td>0</td>\n",
       "      <td>1</td>\n",
       "    </tr>\n",
       "    <tr>\n",
       "      <th>...</th>\n",
       "      <td>...</td>\n",
       "      <td>...</td>\n",
       "      <td>...</td>\n",
       "      <td>...</td>\n",
       "      <td>...</td>\n",
       "      <td>...</td>\n",
       "    </tr>\n",
       "    <tr>\n",
       "      <th>6261</th>\n",
       "      <td>0</td>\n",
       "      <td>16</td>\n",
       "      <td>1</td>\n",
       "      <td>8</td>\n",
       "      <td>0</td>\n",
       "      <td>1</td>\n",
       "    </tr>\n",
       "    <tr>\n",
       "      <th>6744</th>\n",
       "      <td>1</td>\n",
       "      <td>11</td>\n",
       "      <td>0</td>\n",
       "      <td>19</td>\n",
       "      <td>1</td>\n",
       "      <td>1</td>\n",
       "    </tr>\n",
       "    <tr>\n",
       "      <th>1471</th>\n",
       "      <td>0</td>\n",
       "      <td>15</td>\n",
       "      <td>1</td>\n",
       "      <td>9</td>\n",
       "      <td>0</td>\n",
       "      <td>0</td>\n",
       "    </tr>\n",
       "    <tr>\n",
       "      <th>6836</th>\n",
       "      <td>0</td>\n",
       "      <td>12</td>\n",
       "      <td>0</td>\n",
       "      <td>19</td>\n",
       "      <td>1</td>\n",
       "      <td>0</td>\n",
       "    </tr>\n",
       "    <tr>\n",
       "      <th>6198</th>\n",
       "      <td>0</td>\n",
       "      <td>43</td>\n",
       "      <td>0</td>\n",
       "      <td>4</td>\n",
       "      <td>0</td>\n",
       "      <td>1</td>\n",
       "    </tr>\n",
       "  </tbody>\n",
       "</table>\n",
       "<p>1680 rows × 6 columns</p>\n",
       "</div>"
      ],
      "text/plain": [
       "      registered  company_age  valid_address  domain_age  listed_in_gov_db  \\\n",
       "6500           0           47              0          11                 0   \n",
       "2944           1           23              0           7                 1   \n",
       "2024           0           24              0          13                 1   \n",
       "263            1            5              0          20                 1   \n",
       "4350           0           10              1          17                 0   \n",
       "...          ...          ...            ...         ...               ...   \n",
       "6261           0           16              1           8                 0   \n",
       "6744           1           11              0          19                 1   \n",
       "1471           0           15              1           9                 0   \n",
       "6836           0           12              0          19                 1   \n",
       "6198           0           43              0           4                 0   \n",
       "\n",
       "      has_audited_reports  \n",
       "6500                    1  \n",
       "2944                    0  \n",
       "2024                    1  \n",
       "263                     1  \n",
       "4350                    1  \n",
       "...                   ...  \n",
       "6261                    1  \n",
       "6744                    1  \n",
       "1471                    0  \n",
       "6836                    0  \n",
       "6198                    1  \n",
       "\n",
       "[1680 rows x 6 columns]"
      ]
     },
     "execution_count": 121,
     "metadata": {},
     "output_type": "execute_result"
    }
   ],
   "source": [
    "x_test"
   ]
  },
  {
   "cell_type": "code",
   "execution_count": 122,
   "id": "395360ad-8d29-4b93-96f9-5cde6d7d6ea7",
   "metadata": {},
   "outputs": [
    {
     "data": {
      "text/plain": [
       "array([1, 1, 1, ..., 1, 1, 1], dtype=int64)"
      ]
     },
     "execution_count": 122,
     "metadata": {},
     "output_type": "execute_result"
    }
   ],
   "source": [
    "y_test.values"
   ]
  },
  {
   "cell_type": "markdown",
   "id": "4f44c114-8721-4c5b-a496-d718031dc423",
   "metadata": {},
   "source": [
    "## Model Evaluation"
   ]
  },
  {
   "cell_type": "code",
   "execution_count": 123,
   "id": "ffccb114-3342-4447-ac4e-59a43590e153",
   "metadata": {},
   "outputs": [],
   "source": [
    "from sklearn.metrics import accuracy_score,precision_score,recall_score,roc_auc_score,confusion_matrix,classification_report,f1_score"
   ]
  },
  {
   "cell_type": "code",
   "execution_count": 124,
   "id": "d4be42b3-3451-4c85-a712-9b63d1448f43",
   "metadata": {},
   "outputs": [
    {
     "data": {
      "text/plain": [
       "0.8958333333333334"
      ]
     },
     "execution_count": 124,
     "metadata": {},
     "output_type": "execute_result"
    }
   ],
   "source": [
    "acc=accuracy_score(y_test,y_pred)\n",
    "acc"
   ]
  },
  {
   "cell_type": "code",
   "execution_count": 125,
   "id": "1dbd080b-f323-4ebc-9901-539ac519863a",
   "metadata": {},
   "outputs": [
    {
     "data": {
      "text/plain": [
       "0.945054945054945"
      ]
     },
     "execution_count": 125,
     "metadata": {},
     "output_type": "execute_result"
    }
   ],
   "source": [
    "f1=f1_score(y_test,y_pred)\n",
    "f1"
   ]
  },
  {
   "cell_type": "code",
   "execution_count": 126,
   "id": "ded8e0aa-034d-4620-8931-22613cd502f3",
   "metadata": {},
   "outputs": [
    {
     "data": {
      "text/plain": [
       "0.8958333333333334"
      ]
     },
     "execution_count": 126,
     "metadata": {},
     "output_type": "execute_result"
    }
   ],
   "source": [
    "pr=precision_score(y_test,y_pred)\n",
    "pr"
   ]
  },
  {
   "cell_type": "code",
   "execution_count": 127,
   "id": "2c1af475-0535-43fc-aca6-514972adcd36",
   "metadata": {},
   "outputs": [
    {
     "data": {
      "text/plain": [
       "1.0"
      ]
     },
     "execution_count": 127,
     "metadata": {},
     "output_type": "execute_result"
    }
   ],
   "source": [
    "re=recall_score(y_test,y_pred)\n",
    "re"
   ]
  },
  {
   "cell_type": "code",
   "execution_count": 130,
   "id": "f60b3861-ed92-46ff-9fe8-9658de85c827",
   "metadata": {},
   "outputs": [
    {
     "name": "stdout",
     "output_type": "stream",
     "text": [
      "              precision    recall  f1-score   support\n",
      "\n",
      "           0       0.00      0.00      0.00       175\n",
      "           1       0.90      1.00      0.95      1505\n",
      "\n",
      "    accuracy                           0.90      1680\n",
      "   macro avg       0.45      0.50      0.47      1680\n",
      "weighted avg       0.80      0.90      0.85      1680\n",
      "\n"
     ]
    }
   ],
   "source": [
    "print(classification_report(y_test,y_pred))"
   ]
  },
  {
   "cell_type": "markdown",
   "id": "26de928e-9fce-41c7-8d8b-d5280a80bd31",
   "metadata": {},
   "source": [
    "## Cross Validation"
   ]
  },
  {
   "cell_type": "code",
   "execution_count": 131,
   "id": "1919eb51-6ea1-41c2-bfa1-bc24104a6395",
   "metadata": {},
   "outputs": [],
   "source": [
    "LR1=LogisticRegression()"
   ]
  },
  {
   "cell_type": "code",
   "execution_count": 132,
   "id": "bf33cac6-f7bf-419f-8bf4-6abd610eb7e0",
   "metadata": {},
   "outputs": [
    {
     "data": {
      "text/plain": [
       "array([0.94139887, 0.94099849, 0.94099849, 0.94099849, 0.94099849])"
      ]
     },
     "execution_count": 132,
     "metadata": {},
     "output_type": "execute_result"
    }
   ],
   "source": [
    "from sklearn.model_selection import cross_val_score\n",
    "cv=cross_val_score(LR1,x,y,scoring='f1',cv=5)\n",
    "cv"
   ]
  },
  {
   "cell_type": "code",
   "execution_count": 133,
   "id": "0492e78c-1584-4617-b122-214d01d8b8cd",
   "metadata": {},
   "outputs": [
    {
     "data": {
      "text/plain": [
       "0.9410785628694566"
      ]
     },
     "execution_count": 133,
     "metadata": {},
     "output_type": "execute_result"
    }
   ],
   "source": [
    "cv.mean()"
   ]
  },
  {
   "cell_type": "code",
   "execution_count": 134,
   "id": "b4c97813-4c12-4f4a-9f9c-0f22c4eaf720",
   "metadata": {},
   "outputs": [
    {
     "data": {
      "text/plain": [
       "0.0001601514575212626"
      ]
     },
     "execution_count": 134,
     "metadata": {},
     "output_type": "execute_result"
    }
   ],
   "source": [
    "cv.std()"
   ]
  },
  {
   "cell_type": "markdown",
   "id": "37f967fd-36cc-4147-b6f0-8557eba3d8dc",
   "metadata": {},
   "source": [
    "## Hyperparameter tunning"
   ]
  },
  {
   "cell_type": "code",
   "execution_count": 135,
   "id": "4455646f-0ab9-4abb-ad36-36e58be64e4a",
   "metadata": {},
   "outputs": [],
   "source": [
    "from sklearn.model_selection import GridSearchCV"
   ]
  },
  {
   "cell_type": "code",
   "execution_count": 136,
   "id": "05ca47dd-0fc5-494b-ace0-40fa548cc836",
   "metadata": {},
   "outputs": [],
   "source": [
    "LR2=LogisticRegression()"
   ]
  },
  {
   "cell_type": "code",
   "execution_count": 137,
   "id": "6d76f426-6b8b-4e28-a146-647e6a31961c",
   "metadata": {},
   "outputs": [],
   "source": [
    "param_grid={'C':[0.1,1,10,100,1000],'tol':[0.00001,0.0001,0.001,0.01,0.1]}"
   ]
  },
  {
   "cell_type": "code",
   "execution_count": 138,
   "id": "76f4259e-32de-487c-a716-7041d8c4ac54",
   "metadata": {},
   "outputs": [],
   "source": [
    "grid=GridSearchCV(LR2,param_grid,scoring='f1',cv=5,verbose=3)"
   ]
  },
  {
   "cell_type": "code",
   "execution_count": 139,
   "id": "18e7c073-9e49-4069-9a31-aa0dd53156aa",
   "metadata": {},
   "outputs": [
    {
     "name": "stdout",
     "output_type": "stream",
     "text": [
      "Fitting 5 folds for each of 25 candidates, totalling 125 fits\n",
      "[CV 1/5] END ..................C=0.1, tol=1e-05;, score=0.940 total time=   0.0s\n",
      "[CV 2/5] END ..................C=0.1, tol=1e-05;, score=0.940 total time=   0.0s\n",
      "[CV 3/5] END ..................C=0.1, tol=1e-05;, score=0.940 total time=   0.0s\n",
      "[CV 4/5] END ..................C=0.1, tol=1e-05;, score=0.940 total time=   0.0s\n",
      "[CV 5/5] END ..................C=0.1, tol=1e-05;, score=0.940 total time=   0.0s\n",
      "[CV 1/5] END .................C=0.1, tol=0.0001;, score=0.940 total time=   0.0s\n",
      "[CV 2/5] END .................C=0.1, tol=0.0001;, score=0.940 total time=   0.0s\n",
      "[CV 3/5] END .................C=0.1, tol=0.0001;, score=0.940 total time=   0.0s\n",
      "[CV 4/5] END .................C=0.1, tol=0.0001;, score=0.940 total time=   0.0s\n",
      "[CV 5/5] END .................C=0.1, tol=0.0001;, score=0.940 total time=   0.0s\n",
      "[CV 1/5] END ..................C=0.1, tol=0.001;, score=0.940 total time=   0.0s\n",
      "[CV 2/5] END ..................C=0.1, tol=0.001;, score=0.940 total time=   0.0s\n",
      "[CV 3/5] END ..................C=0.1, tol=0.001;, score=0.940 total time=   0.0s\n",
      "[CV 4/5] END ..................C=0.1, tol=0.001;, score=0.940 total time=   0.0s\n",
      "[CV 5/5] END ..................C=0.1, tol=0.001;, score=0.940 total time=   0.0s\n",
      "[CV 1/5] END ...................C=0.1, tol=0.01;, score=0.940 total time=   0.0s\n",
      "[CV 2/5] END ...................C=0.1, tol=0.01;, score=0.940 total time=   0.0s\n",
      "[CV 3/5] END ...................C=0.1, tol=0.01;, score=0.940 total time=   0.0s\n",
      "[CV 4/5] END ...................C=0.1, tol=0.01;, score=0.940 total time=   0.0s\n",
      "[CV 5/5] END ...................C=0.1, tol=0.01;, score=0.940 total time=   0.0s\n",
      "[CV 1/5] END ....................C=0.1, tol=0.1;, score=0.940 total time=   0.0s\n",
      "[CV 2/5] END ....................C=0.1, tol=0.1;, score=0.940 total time=   0.0s\n",
      "[CV 3/5] END ....................C=0.1, tol=0.1;, score=0.940 total time=   0.0s\n",
      "[CV 4/5] END ....................C=0.1, tol=0.1;, score=0.940 total time=   0.0s\n",
      "[CV 5/5] END ....................C=0.1, tol=0.1;, score=0.940 total time=   0.0s\n",
      "[CV 1/5] END ....................C=1, tol=1e-05;, score=0.940 total time=   0.0s\n",
      "[CV 2/5] END ....................C=1, tol=1e-05;, score=0.940 total time=   0.0s\n",
      "[CV 3/5] END ....................C=1, tol=1e-05;, score=0.940 total time=   0.0s\n",
      "[CV 4/5] END ....................C=1, tol=1e-05;, score=0.940 total time=   0.0s\n",
      "[CV 5/5] END ....................C=1, tol=1e-05;, score=0.940 total time=   0.0s\n",
      "[CV 1/5] END ...................C=1, tol=0.0001;, score=0.940 total time=   0.0s\n",
      "[CV 2/5] END ...................C=1, tol=0.0001;, score=0.940 total time=   0.0s\n",
      "[CV 3/5] END ...................C=1, tol=0.0001;, score=0.940 total time=   0.0s\n",
      "[CV 4/5] END ...................C=1, tol=0.0001;, score=0.940 total time=   0.0s\n",
      "[CV 5/5] END ...................C=1, tol=0.0001;, score=0.940 total time=   0.0s\n",
      "[CV 1/5] END ....................C=1, tol=0.001;, score=0.940 total time=   0.0s\n",
      "[CV 2/5] END ....................C=1, tol=0.001;, score=0.940 total time=   0.0s\n",
      "[CV 3/5] END ....................C=1, tol=0.001;, score=0.940 total time=   0.0s\n",
      "[CV 4/5] END ....................C=1, tol=0.001;, score=0.940 total time=   0.0s\n",
      "[CV 5/5] END ....................C=1, tol=0.001;, score=0.940 total time=   0.0s\n",
      "[CV 1/5] END .....................C=1, tol=0.01;, score=0.940 total time=   0.0s\n",
      "[CV 2/5] END .....................C=1, tol=0.01;, score=0.940 total time=   0.0s\n",
      "[CV 3/5] END .....................C=1, tol=0.01;, score=0.940 total time=   0.0s\n",
      "[CV 4/5] END .....................C=1, tol=0.01;, score=0.940 total time=   0.0s\n",
      "[CV 5/5] END .....................C=1, tol=0.01;, score=0.940 total time=   0.0s\n",
      "[CV 1/5] END ......................C=1, tol=0.1;, score=0.940 total time=   0.0s\n",
      "[CV 2/5] END ......................C=1, tol=0.1;, score=0.940 total time=   0.0s\n",
      "[CV 3/5] END ......................C=1, tol=0.1;, score=0.940 total time=   0.0s\n",
      "[CV 4/5] END ......................C=1, tol=0.1;, score=0.940 total time=   0.0s\n",
      "[CV 5/5] END ......................C=1, tol=0.1;, score=0.940 total time=   0.0s\n",
      "[CV 1/5] END ...................C=10, tol=1e-05;, score=0.940 total time=   0.0s\n",
      "[CV 2/5] END ...................C=10, tol=1e-05;, score=0.940 total time=   0.0s\n",
      "[CV 3/5] END ...................C=10, tol=1e-05;, score=0.940 total time=   0.0s\n",
      "[CV 4/5] END ...................C=10, tol=1e-05;, score=0.940 total time=   0.0s\n",
      "[CV 5/5] END ...................C=10, tol=1e-05;, score=0.940 total time=   0.0s\n",
      "[CV 1/5] END ..................C=10, tol=0.0001;, score=0.940 total time=   0.0s\n",
      "[CV 2/5] END ..................C=10, tol=0.0001;, score=0.940 total time=   0.0s\n",
      "[CV 3/5] END ..................C=10, tol=0.0001;, score=0.940 total time=   0.0s\n",
      "[CV 4/5] END ..................C=10, tol=0.0001;, score=0.940 total time=   0.0s\n",
      "[CV 5/5] END ..................C=10, tol=0.0001;, score=0.940 total time=   0.0s\n",
      "[CV 1/5] END ...................C=10, tol=0.001;, score=0.940 total time=   0.0s\n",
      "[CV 2/5] END ...................C=10, tol=0.001;, score=0.940 total time=   0.0s\n",
      "[CV 3/5] END ...................C=10, tol=0.001;, score=0.940 total time=   0.0s\n",
      "[CV 4/5] END ...................C=10, tol=0.001;, score=0.940 total time=   0.0s\n",
      "[CV 5/5] END ...................C=10, tol=0.001;, score=0.940 total time=   0.0s\n",
      "[CV 1/5] END ....................C=10, tol=0.01;, score=0.940 total time=   0.0s\n",
      "[CV 2/5] END ....................C=10, tol=0.01;, score=0.940 total time=   0.0s\n",
      "[CV 3/5] END ....................C=10, tol=0.01;, score=0.940 total time=   0.0s\n",
      "[CV 4/5] END ....................C=10, tol=0.01;, score=0.940 total time=   0.0s\n",
      "[CV 5/5] END ....................C=10, tol=0.01;, score=0.940 total time=   0.0s\n",
      "[CV 1/5] END .....................C=10, tol=0.1;, score=0.940 total time=   0.0s\n",
      "[CV 2/5] END .....................C=10, tol=0.1;, score=0.940 total time=   0.0s\n",
      "[CV 3/5] END .....................C=10, tol=0.1;, score=0.940 total time=   0.0s\n",
      "[CV 4/5] END .....................C=10, tol=0.1;, score=0.940 total time=   0.0s\n",
      "[CV 5/5] END .....................C=10, tol=0.1;, score=0.940 total time=   0.0s\n",
      "[CV 1/5] END ..................C=100, tol=1e-05;, score=0.940 total time=   0.0s\n",
      "[CV 2/5] END ..................C=100, tol=1e-05;, score=0.940 total time=   0.0s\n",
      "[CV 3/5] END ..................C=100, tol=1e-05;, score=0.940 total time=   0.0s\n",
      "[CV 4/5] END ..................C=100, tol=1e-05;, score=0.940 total time=   0.0s\n",
      "[CV 5/5] END ..................C=100, tol=1e-05;, score=0.940 total time=   0.0s\n",
      "[CV 1/5] END .................C=100, tol=0.0001;, score=0.940 total time=   0.0s\n",
      "[CV 2/5] END .................C=100, tol=0.0001;, score=0.940 total time=   0.0s\n",
      "[CV 3/5] END .................C=100, tol=0.0001;, score=0.940 total time=   0.0s\n",
      "[CV 4/5] END .................C=100, tol=0.0001;, score=0.940 total time=   0.0s\n",
      "[CV 5/5] END .................C=100, tol=0.0001;, score=0.940 total time=   0.0s\n",
      "[CV 1/5] END ..................C=100, tol=0.001;, score=0.940 total time=   0.0s\n",
      "[CV 2/5] END ..................C=100, tol=0.001;, score=0.940 total time=   0.0s\n",
      "[CV 3/5] END ..................C=100, tol=0.001;, score=0.940 total time=   0.0s\n",
      "[CV 4/5] END ..................C=100, tol=0.001;, score=0.940 total time=   0.0s\n",
      "[CV 5/5] END ..................C=100, tol=0.001;, score=0.940 total time=   0.0s\n",
      "[CV 1/5] END ...................C=100, tol=0.01;, score=0.940 total time=   0.0s\n",
      "[CV 2/5] END ...................C=100, tol=0.01;, score=0.940 total time=   0.0s\n",
      "[CV 3/5] END ...................C=100, tol=0.01;, score=0.940 total time=   0.0s\n",
      "[CV 4/5] END ...................C=100, tol=0.01;, score=0.940 total time=   0.0s\n",
      "[CV 5/5] END ...................C=100, tol=0.01;, score=0.940 total time=   0.0s\n",
      "[CV 1/5] END ....................C=100, tol=0.1;, score=0.940 total time=   0.0s\n",
      "[CV 2/5] END ....................C=100, tol=0.1;, score=0.940 total time=   0.2s\n",
      "[CV 3/5] END ....................C=100, tol=0.1;, score=0.940 total time=   0.0s\n",
      "[CV 4/5] END ....................C=100, tol=0.1;, score=0.940 total time=   0.0s\n",
      "[CV 5/5] END ....................C=100, tol=0.1;, score=0.940 total time=   0.0s\n",
      "[CV 1/5] END .................C=1000, tol=1e-05;, score=0.940 total time=   0.0s\n",
      "[CV 2/5] END .................C=1000, tol=1e-05;, score=0.940 total time=   0.0s\n",
      "[CV 3/5] END .................C=1000, tol=1e-05;, score=0.940 total time=   0.0s\n",
      "[CV 4/5] END .................C=1000, tol=1e-05;, score=0.940 total time=   0.0s\n",
      "[CV 5/5] END .................C=1000, tol=1e-05;, score=0.940 total time=   0.0s\n",
      "[CV 1/5] END ................C=1000, tol=0.0001;, score=0.940 total time=   0.0s\n",
      "[CV 2/5] END ................C=1000, tol=0.0001;, score=0.940 total time=   0.1s\n",
      "[CV 3/5] END ................C=1000, tol=0.0001;, score=0.940 total time=   0.0s\n",
      "[CV 4/5] END ................C=1000, tol=0.0001;, score=0.940 total time=   0.0s\n",
      "[CV 5/5] END ................C=1000, tol=0.0001;, score=0.940 total time=   0.0s\n",
      "[CV 1/5] END .................C=1000, tol=0.001;, score=0.940 total time=   0.0s\n",
      "[CV 2/5] END .................C=1000, tol=0.001;, score=0.940 total time=   0.0s\n",
      "[CV 3/5] END .................C=1000, tol=0.001;, score=0.940 total time=   0.0s\n",
      "[CV 4/5] END .................C=1000, tol=0.001;, score=0.940 total time=   0.0s\n",
      "[CV 5/5] END .................C=1000, tol=0.001;, score=0.940 total time=   0.0s\n",
      "[CV 1/5] END ..................C=1000, tol=0.01;, score=0.940 total time=   0.0s\n",
      "[CV 2/5] END ..................C=1000, tol=0.01;, score=0.940 total time=   0.0s\n",
      "[CV 3/5] END ..................C=1000, tol=0.01;, score=0.940 total time=   0.0s\n",
      "[CV 4/5] END ..................C=1000, tol=0.01;, score=0.940 total time=   0.0s\n",
      "[CV 5/5] END ..................C=1000, tol=0.01;, score=0.940 total time=   0.0s\n",
      "[CV 1/5] END ...................C=1000, tol=0.1;, score=0.940 total time=   0.0s\n",
      "[CV 2/5] END ...................C=1000, tol=0.1;, score=0.940 total time=   0.0s\n",
      "[CV 3/5] END ...................C=1000, tol=0.1;, score=0.940 total time=   0.0s\n",
      "[CV 4/5] END ...................C=1000, tol=0.1;, score=0.940 total time=   0.0s\n",
      "[CV 5/5] END ...................C=1000, tol=0.1;, score=0.940 total time=   0.0s\n"
     ]
    },
    {
     "data": {
      "text/html": [
       "<style>#sk-container-id-5 {color: black;background-color: white;}#sk-container-id-5 pre{padding: 0;}#sk-container-id-5 div.sk-toggleable {background-color: white;}#sk-container-id-5 label.sk-toggleable__label {cursor: pointer;display: block;width: 100%;margin-bottom: 0;padding: 0.3em;box-sizing: border-box;text-align: center;}#sk-container-id-5 label.sk-toggleable__label-arrow:before {content: \"▸\";float: left;margin-right: 0.25em;color: #696969;}#sk-container-id-5 label.sk-toggleable__label-arrow:hover:before {color: black;}#sk-container-id-5 div.sk-estimator:hover label.sk-toggleable__label-arrow:before {color: black;}#sk-container-id-5 div.sk-toggleable__content {max-height: 0;max-width: 0;overflow: hidden;text-align: left;background-color: #f0f8ff;}#sk-container-id-5 div.sk-toggleable__content pre {margin: 0.2em;color: black;border-radius: 0.25em;background-color: #f0f8ff;}#sk-container-id-5 input.sk-toggleable__control:checked~div.sk-toggleable__content {max-height: 200px;max-width: 100%;overflow: auto;}#sk-container-id-5 input.sk-toggleable__control:checked~label.sk-toggleable__label-arrow:before {content: \"▾\";}#sk-container-id-5 div.sk-estimator input.sk-toggleable__control:checked~label.sk-toggleable__label {background-color: #d4ebff;}#sk-container-id-5 div.sk-label input.sk-toggleable__control:checked~label.sk-toggleable__label {background-color: #d4ebff;}#sk-container-id-5 input.sk-hidden--visually {border: 0;clip: rect(1px 1px 1px 1px);clip: rect(1px, 1px, 1px, 1px);height: 1px;margin: -1px;overflow: hidden;padding: 0;position: absolute;width: 1px;}#sk-container-id-5 div.sk-estimator {font-family: monospace;background-color: #f0f8ff;border: 1px dotted black;border-radius: 0.25em;box-sizing: border-box;margin-bottom: 0.5em;}#sk-container-id-5 div.sk-estimator:hover {background-color: #d4ebff;}#sk-container-id-5 div.sk-parallel-item::after {content: \"\";width: 100%;border-bottom: 1px solid gray;flex-grow: 1;}#sk-container-id-5 div.sk-label:hover label.sk-toggleable__label {background-color: #d4ebff;}#sk-container-id-5 div.sk-serial::before {content: \"\";position: absolute;border-left: 1px solid gray;box-sizing: border-box;top: 0;bottom: 0;left: 50%;z-index: 0;}#sk-container-id-5 div.sk-serial {display: flex;flex-direction: column;align-items: center;background-color: white;padding-right: 0.2em;padding-left: 0.2em;position: relative;}#sk-container-id-5 div.sk-item {position: relative;z-index: 1;}#sk-container-id-5 div.sk-parallel {display: flex;align-items: stretch;justify-content: center;background-color: white;position: relative;}#sk-container-id-5 div.sk-item::before, #sk-container-id-5 div.sk-parallel-item::before {content: \"\";position: absolute;border-left: 1px solid gray;box-sizing: border-box;top: 0;bottom: 0;left: 50%;z-index: -1;}#sk-container-id-5 div.sk-parallel-item {display: flex;flex-direction: column;z-index: 1;position: relative;background-color: white;}#sk-container-id-5 div.sk-parallel-item:first-child::after {align-self: flex-end;width: 50%;}#sk-container-id-5 div.sk-parallel-item:last-child::after {align-self: flex-start;width: 50%;}#sk-container-id-5 div.sk-parallel-item:only-child::after {width: 0;}#sk-container-id-5 div.sk-dashed-wrapped {border: 1px dashed gray;margin: 0 0.4em 0.5em 0.4em;box-sizing: border-box;padding-bottom: 0.4em;background-color: white;}#sk-container-id-5 div.sk-label label {font-family: monospace;font-weight: bold;display: inline-block;line-height: 1.2em;}#sk-container-id-5 div.sk-label-container {text-align: center;}#sk-container-id-5 div.sk-container {/* jupyter's `normalize.less` sets `[hidden] { display: none; }` but bootstrap.min.css set `[hidden] { display: none !important; }` so we also need the `!important` here to be able to override the default hidden behavior on the sphinx rendered scikit-learn.org. See: https://github.com/scikit-learn/scikit-learn/issues/21755 */display: inline-block !important;position: relative;}#sk-container-id-5 div.sk-text-repr-fallback {display: none;}</style><div id=\"sk-container-id-5\" class=\"sk-top-container\"><div class=\"sk-text-repr-fallback\"><pre>GridSearchCV(cv=5, estimator=LogisticRegression(),\n",
       "             param_grid={&#x27;C&#x27;: [0.1, 1, 10, 100, 1000],\n",
       "                         &#x27;tol&#x27;: [1e-05, 0.0001, 0.001, 0.01, 0.1]},\n",
       "             scoring=&#x27;f1&#x27;, verbose=3)</pre><b>In a Jupyter environment, please rerun this cell to show the HTML representation or trust the notebook. <br />On GitHub, the HTML representation is unable to render, please try loading this page with nbviewer.org.</b></div><div class=\"sk-container\" hidden><div class=\"sk-item sk-dashed-wrapped\"><div class=\"sk-label-container\"><div class=\"sk-label sk-toggleable\"><input class=\"sk-toggleable__control sk-hidden--visually\" id=\"sk-estimator-id-5\" type=\"checkbox\" ><label for=\"sk-estimator-id-5\" class=\"sk-toggleable__label sk-toggleable__label-arrow\">GridSearchCV</label><div class=\"sk-toggleable__content\"><pre>GridSearchCV(cv=5, estimator=LogisticRegression(),\n",
       "             param_grid={&#x27;C&#x27;: [0.1, 1, 10, 100, 1000],\n",
       "                         &#x27;tol&#x27;: [1e-05, 0.0001, 0.001, 0.01, 0.1]},\n",
       "             scoring=&#x27;f1&#x27;, verbose=3)</pre></div></div></div><div class=\"sk-parallel\"><div class=\"sk-parallel-item\"><div class=\"sk-item\"><div class=\"sk-label-container\"><div class=\"sk-label sk-toggleable\"><input class=\"sk-toggleable__control sk-hidden--visually\" id=\"sk-estimator-id-6\" type=\"checkbox\" ><label for=\"sk-estimator-id-6\" class=\"sk-toggleable__label sk-toggleable__label-arrow\">estimator: LogisticRegression</label><div class=\"sk-toggleable__content\"><pre>LogisticRegression()</pre></div></div></div><div class=\"sk-serial\"><div class=\"sk-item\"><div class=\"sk-estimator sk-toggleable\"><input class=\"sk-toggleable__control sk-hidden--visually\" id=\"sk-estimator-id-7\" type=\"checkbox\" ><label for=\"sk-estimator-id-7\" class=\"sk-toggleable__label sk-toggleable__label-arrow\">LogisticRegression</label><div class=\"sk-toggleable__content\"><pre>LogisticRegression()</pre></div></div></div></div></div></div></div></div></div></div>"
      ],
      "text/plain": [
       "GridSearchCV(cv=5, estimator=LogisticRegression(),\n",
       "             param_grid={'C': [0.1, 1, 10, 100, 1000],\n",
       "                         'tol': [1e-05, 0.0001, 0.001, 0.01, 0.1]},\n",
       "             scoring='f1', verbose=3)"
      ]
     },
     "execution_count": 139,
     "metadata": {},
     "output_type": "execute_result"
    }
   ],
   "source": [
    "grid.fit(x_train,y_train)"
   ]
  },
  {
   "cell_type": "code",
   "execution_count": 140,
   "id": "859772a4-4531-46a0-8226-02f137633c08",
   "metadata": {},
   "outputs": [
    {
     "data": {
      "text/plain": [
       "{'C': 0.1, 'tol': 1e-05}"
      ]
     },
     "execution_count": 140,
     "metadata": {},
     "output_type": "execute_result"
    }
   ],
   "source": [
    "grid.best_params_"
   ]
  },
  {
   "cell_type": "code",
   "execution_count": 141,
   "id": "7742eb5b-4582-4aa8-be67-f7a3f6843b7b",
   "metadata": {},
   "outputs": [
    {
     "data": {
      "text/html": [
       "<style>#sk-container-id-6 {color: black;background-color: white;}#sk-container-id-6 pre{padding: 0;}#sk-container-id-6 div.sk-toggleable {background-color: white;}#sk-container-id-6 label.sk-toggleable__label {cursor: pointer;display: block;width: 100%;margin-bottom: 0;padding: 0.3em;box-sizing: border-box;text-align: center;}#sk-container-id-6 label.sk-toggleable__label-arrow:before {content: \"▸\";float: left;margin-right: 0.25em;color: #696969;}#sk-container-id-6 label.sk-toggleable__label-arrow:hover:before {color: black;}#sk-container-id-6 div.sk-estimator:hover label.sk-toggleable__label-arrow:before {color: black;}#sk-container-id-6 div.sk-toggleable__content {max-height: 0;max-width: 0;overflow: hidden;text-align: left;background-color: #f0f8ff;}#sk-container-id-6 div.sk-toggleable__content pre {margin: 0.2em;color: black;border-radius: 0.25em;background-color: #f0f8ff;}#sk-container-id-6 input.sk-toggleable__control:checked~div.sk-toggleable__content {max-height: 200px;max-width: 100%;overflow: auto;}#sk-container-id-6 input.sk-toggleable__control:checked~label.sk-toggleable__label-arrow:before {content: \"▾\";}#sk-container-id-6 div.sk-estimator input.sk-toggleable__control:checked~label.sk-toggleable__label {background-color: #d4ebff;}#sk-container-id-6 div.sk-label input.sk-toggleable__control:checked~label.sk-toggleable__label {background-color: #d4ebff;}#sk-container-id-6 input.sk-hidden--visually {border: 0;clip: rect(1px 1px 1px 1px);clip: rect(1px, 1px, 1px, 1px);height: 1px;margin: -1px;overflow: hidden;padding: 0;position: absolute;width: 1px;}#sk-container-id-6 div.sk-estimator {font-family: monospace;background-color: #f0f8ff;border: 1px dotted black;border-radius: 0.25em;box-sizing: border-box;margin-bottom: 0.5em;}#sk-container-id-6 div.sk-estimator:hover {background-color: #d4ebff;}#sk-container-id-6 div.sk-parallel-item::after {content: \"\";width: 100%;border-bottom: 1px solid gray;flex-grow: 1;}#sk-container-id-6 div.sk-label:hover label.sk-toggleable__label {background-color: #d4ebff;}#sk-container-id-6 div.sk-serial::before {content: \"\";position: absolute;border-left: 1px solid gray;box-sizing: border-box;top: 0;bottom: 0;left: 50%;z-index: 0;}#sk-container-id-6 div.sk-serial {display: flex;flex-direction: column;align-items: center;background-color: white;padding-right: 0.2em;padding-left: 0.2em;position: relative;}#sk-container-id-6 div.sk-item {position: relative;z-index: 1;}#sk-container-id-6 div.sk-parallel {display: flex;align-items: stretch;justify-content: center;background-color: white;position: relative;}#sk-container-id-6 div.sk-item::before, #sk-container-id-6 div.sk-parallel-item::before {content: \"\";position: absolute;border-left: 1px solid gray;box-sizing: border-box;top: 0;bottom: 0;left: 50%;z-index: -1;}#sk-container-id-6 div.sk-parallel-item {display: flex;flex-direction: column;z-index: 1;position: relative;background-color: white;}#sk-container-id-6 div.sk-parallel-item:first-child::after {align-self: flex-end;width: 50%;}#sk-container-id-6 div.sk-parallel-item:last-child::after {align-self: flex-start;width: 50%;}#sk-container-id-6 div.sk-parallel-item:only-child::after {width: 0;}#sk-container-id-6 div.sk-dashed-wrapped {border: 1px dashed gray;margin: 0 0.4em 0.5em 0.4em;box-sizing: border-box;padding-bottom: 0.4em;background-color: white;}#sk-container-id-6 div.sk-label label {font-family: monospace;font-weight: bold;display: inline-block;line-height: 1.2em;}#sk-container-id-6 div.sk-label-container {text-align: center;}#sk-container-id-6 div.sk-container {/* jupyter's `normalize.less` sets `[hidden] { display: none; }` but bootstrap.min.css set `[hidden] { display: none !important; }` so we also need the `!important` here to be able to override the default hidden behavior on the sphinx rendered scikit-learn.org. See: https://github.com/scikit-learn/scikit-learn/issues/21755 */display: inline-block !important;position: relative;}#sk-container-id-6 div.sk-text-repr-fallback {display: none;}</style><div id=\"sk-container-id-6\" class=\"sk-top-container\"><div class=\"sk-text-repr-fallback\"><pre>LogisticRegression(C=0.1, tol=1e-05)</pre><b>In a Jupyter environment, please rerun this cell to show the HTML representation or trust the notebook. <br />On GitHub, the HTML representation is unable to render, please try loading this page with nbviewer.org.</b></div><div class=\"sk-container\" hidden><div class=\"sk-item\"><div class=\"sk-estimator sk-toggleable\"><input class=\"sk-toggleable__control sk-hidden--visually\" id=\"sk-estimator-id-8\" type=\"checkbox\" checked><label for=\"sk-estimator-id-8\" class=\"sk-toggleable__label sk-toggleable__label-arrow\">LogisticRegression</label><div class=\"sk-toggleable__content\"><pre>LogisticRegression(C=0.1, tol=1e-05)</pre></div></div></div></div></div>"
      ],
      "text/plain": [
       "LogisticRegression(C=0.1, tol=1e-05)"
      ]
     },
     "execution_count": 141,
     "metadata": {},
     "output_type": "execute_result"
    }
   ],
   "source": [
    "grid.best_estimator_"
   ]
  },
  {
   "cell_type": "code",
   "execution_count": 142,
   "id": "42744441-275a-462f-9031-ff5274fb6eaa",
   "metadata": {},
   "outputs": [],
   "source": [
    "LR3=LogisticRegression(C= 0.1, tol=1e-05)"
   ]
  },
  {
   "cell_type": "code",
   "execution_count": 143,
   "id": "d6a9da7e-6a00-473e-b1b3-49d2eb0f8110",
   "metadata": {},
   "outputs": [
    {
     "data": {
      "text/html": [
       "<style>#sk-container-id-7 {color: black;background-color: white;}#sk-container-id-7 pre{padding: 0;}#sk-container-id-7 div.sk-toggleable {background-color: white;}#sk-container-id-7 label.sk-toggleable__label {cursor: pointer;display: block;width: 100%;margin-bottom: 0;padding: 0.3em;box-sizing: border-box;text-align: center;}#sk-container-id-7 label.sk-toggleable__label-arrow:before {content: \"▸\";float: left;margin-right: 0.25em;color: #696969;}#sk-container-id-7 label.sk-toggleable__label-arrow:hover:before {color: black;}#sk-container-id-7 div.sk-estimator:hover label.sk-toggleable__label-arrow:before {color: black;}#sk-container-id-7 div.sk-toggleable__content {max-height: 0;max-width: 0;overflow: hidden;text-align: left;background-color: #f0f8ff;}#sk-container-id-7 div.sk-toggleable__content pre {margin: 0.2em;color: black;border-radius: 0.25em;background-color: #f0f8ff;}#sk-container-id-7 input.sk-toggleable__control:checked~div.sk-toggleable__content {max-height: 200px;max-width: 100%;overflow: auto;}#sk-container-id-7 input.sk-toggleable__control:checked~label.sk-toggleable__label-arrow:before {content: \"▾\";}#sk-container-id-7 div.sk-estimator input.sk-toggleable__control:checked~label.sk-toggleable__label {background-color: #d4ebff;}#sk-container-id-7 div.sk-label input.sk-toggleable__control:checked~label.sk-toggleable__label {background-color: #d4ebff;}#sk-container-id-7 input.sk-hidden--visually {border: 0;clip: rect(1px 1px 1px 1px);clip: rect(1px, 1px, 1px, 1px);height: 1px;margin: -1px;overflow: hidden;padding: 0;position: absolute;width: 1px;}#sk-container-id-7 div.sk-estimator {font-family: monospace;background-color: #f0f8ff;border: 1px dotted black;border-radius: 0.25em;box-sizing: border-box;margin-bottom: 0.5em;}#sk-container-id-7 div.sk-estimator:hover {background-color: #d4ebff;}#sk-container-id-7 div.sk-parallel-item::after {content: \"\";width: 100%;border-bottom: 1px solid gray;flex-grow: 1;}#sk-container-id-7 div.sk-label:hover label.sk-toggleable__label {background-color: #d4ebff;}#sk-container-id-7 div.sk-serial::before {content: \"\";position: absolute;border-left: 1px solid gray;box-sizing: border-box;top: 0;bottom: 0;left: 50%;z-index: 0;}#sk-container-id-7 div.sk-serial {display: flex;flex-direction: column;align-items: center;background-color: white;padding-right: 0.2em;padding-left: 0.2em;position: relative;}#sk-container-id-7 div.sk-item {position: relative;z-index: 1;}#sk-container-id-7 div.sk-parallel {display: flex;align-items: stretch;justify-content: center;background-color: white;position: relative;}#sk-container-id-7 div.sk-item::before, #sk-container-id-7 div.sk-parallel-item::before {content: \"\";position: absolute;border-left: 1px solid gray;box-sizing: border-box;top: 0;bottom: 0;left: 50%;z-index: -1;}#sk-container-id-7 div.sk-parallel-item {display: flex;flex-direction: column;z-index: 1;position: relative;background-color: white;}#sk-container-id-7 div.sk-parallel-item:first-child::after {align-self: flex-end;width: 50%;}#sk-container-id-7 div.sk-parallel-item:last-child::after {align-self: flex-start;width: 50%;}#sk-container-id-7 div.sk-parallel-item:only-child::after {width: 0;}#sk-container-id-7 div.sk-dashed-wrapped {border: 1px dashed gray;margin: 0 0.4em 0.5em 0.4em;box-sizing: border-box;padding-bottom: 0.4em;background-color: white;}#sk-container-id-7 div.sk-label label {font-family: monospace;font-weight: bold;display: inline-block;line-height: 1.2em;}#sk-container-id-7 div.sk-label-container {text-align: center;}#sk-container-id-7 div.sk-container {/* jupyter's `normalize.less` sets `[hidden] { display: none; }` but bootstrap.min.css set `[hidden] { display: none !important; }` so we also need the `!important` here to be able to override the default hidden behavior on the sphinx rendered scikit-learn.org. See: https://github.com/scikit-learn/scikit-learn/issues/21755 */display: inline-block !important;position: relative;}#sk-container-id-7 div.sk-text-repr-fallback {display: none;}</style><div id=\"sk-container-id-7\" class=\"sk-top-container\"><div class=\"sk-text-repr-fallback\"><pre>LogisticRegression(C=0.1, tol=1e-05)</pre><b>In a Jupyter environment, please rerun this cell to show the HTML representation or trust the notebook. <br />On GitHub, the HTML representation is unable to render, please try loading this page with nbviewer.org.</b></div><div class=\"sk-container\" hidden><div class=\"sk-item\"><div class=\"sk-estimator sk-toggleable\"><input class=\"sk-toggleable__control sk-hidden--visually\" id=\"sk-estimator-id-9\" type=\"checkbox\" checked><label for=\"sk-estimator-id-9\" class=\"sk-toggleable__label sk-toggleable__label-arrow\">LogisticRegression</label><div class=\"sk-toggleable__content\"><pre>LogisticRegression(C=0.1, tol=1e-05)</pre></div></div></div></div></div>"
      ],
      "text/plain": [
       "LogisticRegression(C=0.1, tol=1e-05)"
      ]
     },
     "execution_count": 143,
     "metadata": {},
     "output_type": "execute_result"
    }
   ],
   "source": [
    "LR3.fit(x_train,y_train)"
   ]
  },
  {
   "cell_type": "code",
   "execution_count": 144,
   "id": "95ac5877-ec9d-421d-ba12-043057c7b18f",
   "metadata": {},
   "outputs": [
    {
     "data": {
      "text/plain": [
       "array([1, 1, 1, ..., 1, 1, 1], dtype=int64)"
      ]
     },
     "execution_count": 144,
     "metadata": {},
     "output_type": "execute_result"
    }
   ],
   "source": [
    "y_pred1=LR3.predict(x_test)\n",
    "y_pred1"
   ]
  },
  {
   "cell_type": "code",
   "execution_count": 145,
   "id": "717563ab-d9a2-4c4f-b142-468f9c671e24",
   "metadata": {},
   "outputs": [
    {
     "data": {
      "text/plain": [
       "array([1, 1, 1, ..., 1, 1, 1], dtype=int64)"
      ]
     },
     "execution_count": 145,
     "metadata": {},
     "output_type": "execute_result"
    }
   ],
   "source": [
    "y_test.values"
   ]
  },
  {
   "cell_type": "markdown",
   "id": "e5a551d2-73ff-4b34-94b9-67eea00a913d",
   "metadata": {},
   "source": [
    "## Model Evaluation of LogisticRegression with Hyperparameter tunning"
   ]
  },
  {
   "cell_type": "code",
   "execution_count": 146,
   "id": "65bced76-912c-4c23-ae9b-8cf59924a069",
   "metadata": {},
   "outputs": [
    {
     "data": {
      "text/plain": [
       "0.8958333333333334"
      ]
     },
     "execution_count": 146,
     "metadata": {},
     "output_type": "execute_result"
    }
   ],
   "source": [
    "accuracy_score(y_test,y_pred1)"
   ]
  },
  {
   "cell_type": "code",
   "execution_count": 160,
   "id": "6e2c6893-d1d8-40cd-af31-c9b730fbfec4",
   "metadata": {},
   "outputs": [
    {
     "data": {
      "text/plain": [
       "0.945054945054945"
      ]
     },
     "execution_count": 160,
     "metadata": {},
     "output_type": "execute_result"
    }
   ],
   "source": [
    "f1_score(y_test,y_pred1)"
   ]
  },
  {
   "cell_type": "code",
   "execution_count": 147,
   "id": "d6048e20-10c1-4631-b425-7fd621a855ab",
   "metadata": {},
   "outputs": [
    {
     "data": {
      "text/plain": [
       "0.8958333333333334"
      ]
     },
     "execution_count": 147,
     "metadata": {},
     "output_type": "execute_result"
    }
   ],
   "source": [
    "precision_score(y_test,y_pred1)"
   ]
  },
  {
   "cell_type": "code",
   "execution_count": 148,
   "id": "1c197747-220c-4874-92be-4eb1baefab52",
   "metadata": {},
   "outputs": [
    {
     "data": {
      "text/plain": [
       "1.0"
      ]
     },
     "execution_count": 148,
     "metadata": {},
     "output_type": "execute_result"
    }
   ],
   "source": [
    "recall_score(y_test,y_pred1)"
   ]
  },
  {
   "cell_type": "code",
   "execution_count": 149,
   "id": "d9c9002f-d7bf-4e11-b3a2-6fa7d0b7effa",
   "metadata": {},
   "outputs": [
    {
     "data": {
      "text/plain": [
       "0.5"
      ]
     },
     "execution_count": 149,
     "metadata": {},
     "output_type": "execute_result"
    }
   ],
   "source": [
    "roc_auc_score(y_test,y_pred1)"
   ]
  },
  {
   "cell_type": "markdown",
   "id": "61807d64-9471-49e2-a087-a921c8a852c9",
   "metadata": {},
   "source": [
    "# Decision Tree"
   ]
  },
  {
   "cell_type": "code",
   "execution_count": 152,
   "id": "4f6b0390-9c0b-4192-a1bf-9859454e41be",
   "metadata": {},
   "outputs": [],
   "source": [
    "from sklearn.tree import DecisionTreeClassifier\n",
    "dt=DecisionTreeClassifier()"
   ]
  },
  {
   "cell_type": "code",
   "execution_count": 153,
   "id": "5457b2d5-8210-484d-a237-862ae0ead314",
   "metadata": {},
   "outputs": [
    {
     "data": {
      "text/html": [
       "<style>#sk-container-id-8 {color: black;background-color: white;}#sk-container-id-8 pre{padding: 0;}#sk-container-id-8 div.sk-toggleable {background-color: white;}#sk-container-id-8 label.sk-toggleable__label {cursor: pointer;display: block;width: 100%;margin-bottom: 0;padding: 0.3em;box-sizing: border-box;text-align: center;}#sk-container-id-8 label.sk-toggleable__label-arrow:before {content: \"▸\";float: left;margin-right: 0.25em;color: #696969;}#sk-container-id-8 label.sk-toggleable__label-arrow:hover:before {color: black;}#sk-container-id-8 div.sk-estimator:hover label.sk-toggleable__label-arrow:before {color: black;}#sk-container-id-8 div.sk-toggleable__content {max-height: 0;max-width: 0;overflow: hidden;text-align: left;background-color: #f0f8ff;}#sk-container-id-8 div.sk-toggleable__content pre {margin: 0.2em;color: black;border-radius: 0.25em;background-color: #f0f8ff;}#sk-container-id-8 input.sk-toggleable__control:checked~div.sk-toggleable__content {max-height: 200px;max-width: 100%;overflow: auto;}#sk-container-id-8 input.sk-toggleable__control:checked~label.sk-toggleable__label-arrow:before {content: \"▾\";}#sk-container-id-8 div.sk-estimator input.sk-toggleable__control:checked~label.sk-toggleable__label {background-color: #d4ebff;}#sk-container-id-8 div.sk-label input.sk-toggleable__control:checked~label.sk-toggleable__label {background-color: #d4ebff;}#sk-container-id-8 input.sk-hidden--visually {border: 0;clip: rect(1px 1px 1px 1px);clip: rect(1px, 1px, 1px, 1px);height: 1px;margin: -1px;overflow: hidden;padding: 0;position: absolute;width: 1px;}#sk-container-id-8 div.sk-estimator {font-family: monospace;background-color: #f0f8ff;border: 1px dotted black;border-radius: 0.25em;box-sizing: border-box;margin-bottom: 0.5em;}#sk-container-id-8 div.sk-estimator:hover {background-color: #d4ebff;}#sk-container-id-8 div.sk-parallel-item::after {content: \"\";width: 100%;border-bottom: 1px solid gray;flex-grow: 1;}#sk-container-id-8 div.sk-label:hover label.sk-toggleable__label {background-color: #d4ebff;}#sk-container-id-8 div.sk-serial::before {content: \"\";position: absolute;border-left: 1px solid gray;box-sizing: border-box;top: 0;bottom: 0;left: 50%;z-index: 0;}#sk-container-id-8 div.sk-serial {display: flex;flex-direction: column;align-items: center;background-color: white;padding-right: 0.2em;padding-left: 0.2em;position: relative;}#sk-container-id-8 div.sk-item {position: relative;z-index: 1;}#sk-container-id-8 div.sk-parallel {display: flex;align-items: stretch;justify-content: center;background-color: white;position: relative;}#sk-container-id-8 div.sk-item::before, #sk-container-id-8 div.sk-parallel-item::before {content: \"\";position: absolute;border-left: 1px solid gray;box-sizing: border-box;top: 0;bottom: 0;left: 50%;z-index: -1;}#sk-container-id-8 div.sk-parallel-item {display: flex;flex-direction: column;z-index: 1;position: relative;background-color: white;}#sk-container-id-8 div.sk-parallel-item:first-child::after {align-self: flex-end;width: 50%;}#sk-container-id-8 div.sk-parallel-item:last-child::after {align-self: flex-start;width: 50%;}#sk-container-id-8 div.sk-parallel-item:only-child::after {width: 0;}#sk-container-id-8 div.sk-dashed-wrapped {border: 1px dashed gray;margin: 0 0.4em 0.5em 0.4em;box-sizing: border-box;padding-bottom: 0.4em;background-color: white;}#sk-container-id-8 div.sk-label label {font-family: monospace;font-weight: bold;display: inline-block;line-height: 1.2em;}#sk-container-id-8 div.sk-label-container {text-align: center;}#sk-container-id-8 div.sk-container {/* jupyter's `normalize.less` sets `[hidden] { display: none; }` but bootstrap.min.css set `[hidden] { display: none !important; }` so we also need the `!important` here to be able to override the default hidden behavior on the sphinx rendered scikit-learn.org. See: https://github.com/scikit-learn/scikit-learn/issues/21755 */display: inline-block !important;position: relative;}#sk-container-id-8 div.sk-text-repr-fallback {display: none;}</style><div id=\"sk-container-id-8\" class=\"sk-top-container\"><div class=\"sk-text-repr-fallback\"><pre>DecisionTreeClassifier()</pre><b>In a Jupyter environment, please rerun this cell to show the HTML representation or trust the notebook. <br />On GitHub, the HTML representation is unable to render, please try loading this page with nbviewer.org.</b></div><div class=\"sk-container\" hidden><div class=\"sk-item\"><div class=\"sk-estimator sk-toggleable\"><input class=\"sk-toggleable__control sk-hidden--visually\" id=\"sk-estimator-id-10\" type=\"checkbox\" checked><label for=\"sk-estimator-id-10\" class=\"sk-toggleable__label sk-toggleable__label-arrow\">DecisionTreeClassifier</label><div class=\"sk-toggleable__content\"><pre>DecisionTreeClassifier()</pre></div></div></div></div></div>"
      ],
      "text/plain": [
       "DecisionTreeClassifier()"
      ]
     },
     "execution_count": 153,
     "metadata": {},
     "output_type": "execute_result"
    }
   ],
   "source": [
    "dt.fit(x_train,y_train)"
   ]
  },
  {
   "cell_type": "code",
   "execution_count": 154,
   "id": "8bbb9481-3577-4d92-9f28-662172ab6254",
   "metadata": {},
   "outputs": [
    {
     "data": {
      "text/plain": [
       "array([1, 1, 1, ..., 1, 1, 1], dtype=int64)"
      ]
     },
     "execution_count": 154,
     "metadata": {},
     "output_type": "execute_result"
    }
   ],
   "source": [
    "y_pred_dt=dt.predict(x_test)\n",
    "y_pred_dt"
   ]
  },
  {
   "cell_type": "code",
   "execution_count": 155,
   "id": "7f7dae91-10f5-42d0-81fa-ae9404adaaeb",
   "metadata": {},
   "outputs": [
    {
     "data": {
      "text/plain": [
       "array([1, 1, 1, ..., 1, 1, 1], dtype=int64)"
      ]
     },
     "execution_count": 155,
     "metadata": {},
     "output_type": "execute_result"
    }
   ],
   "source": [
    "y_test.values"
   ]
  },
  {
   "cell_type": "markdown",
   "id": "9a4f9f47-c931-40d1-9d91-ee2bd42fee46",
   "metadata": {},
   "source": [
    "## Model Evaluation"
   ]
  },
  {
   "cell_type": "code",
   "execution_count": 156,
   "id": "d1d4c75d-3ff7-4283-9880-5e2da64281b9",
   "metadata": {},
   "outputs": [],
   "source": [
    "from sklearn.metrics import accuracy_score,precision_score,recall_score,roc_auc_score,confusion_matrix,classification_report,f1_score"
   ]
  },
  {
   "cell_type": "code",
   "execution_count": 187,
   "id": "4f365b7f-620a-492a-9e21-f59f0f73ab83",
   "metadata": {},
   "outputs": [
    {
     "data": {
      "text/plain": [
       "0.8083333333333333"
      ]
     },
     "execution_count": 187,
     "metadata": {},
     "output_type": "execute_result"
    }
   ],
   "source": [
    "accuracy_score(y_test,y_pred_dt)"
   ]
  },
  {
   "cell_type": "code",
   "execution_count": 161,
   "id": "e36f641a-0768-4d79-84e6-bfbe35cb4827",
   "metadata": {},
   "outputs": [
    {
     "data": {
      "text/plain": [
       "0.8915824915824916"
      ]
     },
     "execution_count": 161,
     "metadata": {},
     "output_type": "execute_result"
    }
   ],
   "source": [
    "f1_score(y_test,y_pred_dt)"
   ]
  },
  {
   "cell_type": "code",
   "execution_count": 158,
   "id": "11739ab1-f78e-4205-a4fd-029be600cf2e",
   "metadata": {},
   "outputs": [
    {
     "data": {
      "text/plain": [
       "0.903754266211604"
      ]
     },
     "execution_count": 158,
     "metadata": {},
     "output_type": "execute_result"
    }
   ],
   "source": [
    "precision_score(y_test,y_pred_dt)"
   ]
  },
  {
   "cell_type": "code",
   "execution_count": 159,
   "id": "454d52a2-d53f-4560-a2df-e4e36fdb59ea",
   "metadata": {},
   "outputs": [
    {
     "data": {
      "text/plain": [
       "0.879734219269103"
      ]
     },
     "execution_count": 159,
     "metadata": {},
     "output_type": "execute_result"
    }
   ],
   "source": [
    "recall_score(y_test,y_pred_dt)"
   ]
  },
  {
   "cell_type": "markdown",
   "id": "2291d393-0cb6-4dfb-b693-5b9021186ba8",
   "metadata": {},
   "source": [
    "## Cross Validation"
   ]
  },
  {
   "cell_type": "code",
   "execution_count": 162,
   "id": "60905a64-5ea7-4b59-bf9e-1aa051a500f0",
   "metadata": {},
   "outputs": [],
   "source": [
    "from sklearn.model_selection import cross_val_score\n",
    "dt1=DecisionTreeClassifier()"
   ]
  },
  {
   "cell_type": "code",
   "execution_count": 163,
   "id": "51ec212a-37c4-48df-b67f-c1aa04e06eaa",
   "metadata": {},
   "outputs": [
    {
     "data": {
      "text/plain": [
       "array([0.90022603, 0.90022749, 0.88809601, 0.89205835])"
      ]
     },
     "execution_count": 163,
     "metadata": {},
     "output_type": "execute_result"
    }
   ],
   "source": [
    "cv=cross_val_score(dt1,x,y,scoring='f1',cv=4)\n",
    "cv"
   ]
  },
  {
   "cell_type": "markdown",
   "id": "1e401eae-6a5b-4ad3-9b64-f0cfd81851ac",
   "metadata": {},
   "source": [
    "## Hyperparameter Tunning"
   ]
  },
  {
   "cell_type": "code",
   "execution_count": 165,
   "id": "28a5d566-44d3-4e56-b20d-0e82e3279c5d",
   "metadata": {},
   "outputs": [],
   "source": [
    "from sklearn.model_selection import RandomizedSearchCV"
   ]
  },
  {
   "cell_type": "code",
   "execution_count": 166,
   "id": "8033a382-447c-4b0f-817e-135115739d29",
   "metadata": {},
   "outputs": [
    {
     "data": {
      "text/plain": [
       "[1, 2, 3, 4, 5, 6, 7, 8, 9, 10, 11, 12, 13, 14, 15, 16, 17, 18, 19]"
      ]
     },
     "execution_count": 166,
     "metadata": {},
     "output_type": "execute_result"
    }
   ],
   "source": [
    "list(range(1, 20))"
   ]
  },
  {
   "cell_type": "code",
   "execution_count": 167,
   "id": "cea17410-cbeb-4a95-8dcd-803c3b30e5c1",
   "metadata": {},
   "outputs": [],
   "source": [
    "params = {\n",
    "    \"criterion\":(\"gini\", \"entropy\"),\n",
    "    \"splitter\":(\"best\", \"random\"), \n",
    "    \"max_depth\":(list(range(1, 20))), \n",
    "    \"min_samples_split\":[2, 3, 4],    \n",
    "    \"min_samples_leaf\":list(range(1, 20))\n",
    "}"
   ]
  },
  {
   "cell_type": "code",
   "execution_count": 168,
   "id": "bd6b9501-2320-408b-a9aa-1fc0c9777d43",
   "metadata": {},
   "outputs": [],
   "source": [
    "dt2 = DecisionTreeClassifier()"
   ]
  },
  {
   "cell_type": "code",
   "execution_count": 169,
   "id": "0f1e090a-57d3-4efa-b08b-51082fd19af2",
   "metadata": {},
   "outputs": [],
   "source": [
    "grid = RandomizedSearchCV(dt2 ,params, scoring='f1', cv =4, verbose = 3, n_jobs=-1)"
   ]
  },
  {
   "cell_type": "code",
   "execution_count": 170,
   "id": "3b5cff40-3b00-469a-a412-1b1abf72838e",
   "metadata": {},
   "outputs": [
    {
     "name": "stdout",
     "output_type": "stream",
     "text": [
      "Fitting 4 folds for each of 10 candidates, totalling 40 fits\n"
     ]
    },
    {
     "data": {
      "text/html": [
       "<style>#sk-container-id-9 {color: black;background-color: white;}#sk-container-id-9 pre{padding: 0;}#sk-container-id-9 div.sk-toggleable {background-color: white;}#sk-container-id-9 label.sk-toggleable__label {cursor: pointer;display: block;width: 100%;margin-bottom: 0;padding: 0.3em;box-sizing: border-box;text-align: center;}#sk-container-id-9 label.sk-toggleable__label-arrow:before {content: \"▸\";float: left;margin-right: 0.25em;color: #696969;}#sk-container-id-9 label.sk-toggleable__label-arrow:hover:before {color: black;}#sk-container-id-9 div.sk-estimator:hover label.sk-toggleable__label-arrow:before {color: black;}#sk-container-id-9 div.sk-toggleable__content {max-height: 0;max-width: 0;overflow: hidden;text-align: left;background-color: #f0f8ff;}#sk-container-id-9 div.sk-toggleable__content pre {margin: 0.2em;color: black;border-radius: 0.25em;background-color: #f0f8ff;}#sk-container-id-9 input.sk-toggleable__control:checked~div.sk-toggleable__content {max-height: 200px;max-width: 100%;overflow: auto;}#sk-container-id-9 input.sk-toggleable__control:checked~label.sk-toggleable__label-arrow:before {content: \"▾\";}#sk-container-id-9 div.sk-estimator input.sk-toggleable__control:checked~label.sk-toggleable__label {background-color: #d4ebff;}#sk-container-id-9 div.sk-label input.sk-toggleable__control:checked~label.sk-toggleable__label {background-color: #d4ebff;}#sk-container-id-9 input.sk-hidden--visually {border: 0;clip: rect(1px 1px 1px 1px);clip: rect(1px, 1px, 1px, 1px);height: 1px;margin: -1px;overflow: hidden;padding: 0;position: absolute;width: 1px;}#sk-container-id-9 div.sk-estimator {font-family: monospace;background-color: #f0f8ff;border: 1px dotted black;border-radius: 0.25em;box-sizing: border-box;margin-bottom: 0.5em;}#sk-container-id-9 div.sk-estimator:hover {background-color: #d4ebff;}#sk-container-id-9 div.sk-parallel-item::after {content: \"\";width: 100%;border-bottom: 1px solid gray;flex-grow: 1;}#sk-container-id-9 div.sk-label:hover label.sk-toggleable__label {background-color: #d4ebff;}#sk-container-id-9 div.sk-serial::before {content: \"\";position: absolute;border-left: 1px solid gray;box-sizing: border-box;top: 0;bottom: 0;left: 50%;z-index: 0;}#sk-container-id-9 div.sk-serial {display: flex;flex-direction: column;align-items: center;background-color: white;padding-right: 0.2em;padding-left: 0.2em;position: relative;}#sk-container-id-9 div.sk-item {position: relative;z-index: 1;}#sk-container-id-9 div.sk-parallel {display: flex;align-items: stretch;justify-content: center;background-color: white;position: relative;}#sk-container-id-9 div.sk-item::before, #sk-container-id-9 div.sk-parallel-item::before {content: \"\";position: absolute;border-left: 1px solid gray;box-sizing: border-box;top: 0;bottom: 0;left: 50%;z-index: -1;}#sk-container-id-9 div.sk-parallel-item {display: flex;flex-direction: column;z-index: 1;position: relative;background-color: white;}#sk-container-id-9 div.sk-parallel-item:first-child::after {align-self: flex-end;width: 50%;}#sk-container-id-9 div.sk-parallel-item:last-child::after {align-self: flex-start;width: 50%;}#sk-container-id-9 div.sk-parallel-item:only-child::after {width: 0;}#sk-container-id-9 div.sk-dashed-wrapped {border: 1px dashed gray;margin: 0 0.4em 0.5em 0.4em;box-sizing: border-box;padding-bottom: 0.4em;background-color: white;}#sk-container-id-9 div.sk-label label {font-family: monospace;font-weight: bold;display: inline-block;line-height: 1.2em;}#sk-container-id-9 div.sk-label-container {text-align: center;}#sk-container-id-9 div.sk-container {/* jupyter's `normalize.less` sets `[hidden] { display: none; }` but bootstrap.min.css set `[hidden] { display: none !important; }` so we also need the `!important` here to be able to override the default hidden behavior on the sphinx rendered scikit-learn.org. See: https://github.com/scikit-learn/scikit-learn/issues/21755 */display: inline-block !important;position: relative;}#sk-container-id-9 div.sk-text-repr-fallback {display: none;}</style><div id=\"sk-container-id-9\" class=\"sk-top-container\"><div class=\"sk-text-repr-fallback\"><pre>RandomizedSearchCV(cv=4, estimator=DecisionTreeClassifier(), n_jobs=-1,\n",
       "                   param_distributions={&#x27;criterion&#x27;: (&#x27;gini&#x27;, &#x27;entropy&#x27;),\n",
       "                                        &#x27;max_depth&#x27;: [1, 2, 3, 4, 5, 6, 7, 8, 9,\n",
       "                                                      10, 11, 12, 13, 14, 15,\n",
       "                                                      16, 17, 18, 19],\n",
       "                                        &#x27;min_samples_leaf&#x27;: [1, 2, 3, 4, 5, 6,\n",
       "                                                             7, 8, 9, 10, 11,\n",
       "                                                             12, 13, 14, 15, 16,\n",
       "                                                             17, 18, 19],\n",
       "                                        &#x27;min_samples_split&#x27;: [2, 3, 4],\n",
       "                                        &#x27;splitter&#x27;: (&#x27;best&#x27;, &#x27;random&#x27;)},\n",
       "                   scoring=&#x27;f1&#x27;, verbose=3)</pre><b>In a Jupyter environment, please rerun this cell to show the HTML representation or trust the notebook. <br />On GitHub, the HTML representation is unable to render, please try loading this page with nbviewer.org.</b></div><div class=\"sk-container\" hidden><div class=\"sk-item sk-dashed-wrapped\"><div class=\"sk-label-container\"><div class=\"sk-label sk-toggleable\"><input class=\"sk-toggleable__control sk-hidden--visually\" id=\"sk-estimator-id-11\" type=\"checkbox\" ><label for=\"sk-estimator-id-11\" class=\"sk-toggleable__label sk-toggleable__label-arrow\">RandomizedSearchCV</label><div class=\"sk-toggleable__content\"><pre>RandomizedSearchCV(cv=4, estimator=DecisionTreeClassifier(), n_jobs=-1,\n",
       "                   param_distributions={&#x27;criterion&#x27;: (&#x27;gini&#x27;, &#x27;entropy&#x27;),\n",
       "                                        &#x27;max_depth&#x27;: [1, 2, 3, 4, 5, 6, 7, 8, 9,\n",
       "                                                      10, 11, 12, 13, 14, 15,\n",
       "                                                      16, 17, 18, 19],\n",
       "                                        &#x27;min_samples_leaf&#x27;: [1, 2, 3, 4, 5, 6,\n",
       "                                                             7, 8, 9, 10, 11,\n",
       "                                                             12, 13, 14, 15, 16,\n",
       "                                                             17, 18, 19],\n",
       "                                        &#x27;min_samples_split&#x27;: [2, 3, 4],\n",
       "                                        &#x27;splitter&#x27;: (&#x27;best&#x27;, &#x27;random&#x27;)},\n",
       "                   scoring=&#x27;f1&#x27;, verbose=3)</pre></div></div></div><div class=\"sk-parallel\"><div class=\"sk-parallel-item\"><div class=\"sk-item\"><div class=\"sk-label-container\"><div class=\"sk-label sk-toggleable\"><input class=\"sk-toggleable__control sk-hidden--visually\" id=\"sk-estimator-id-12\" type=\"checkbox\" ><label for=\"sk-estimator-id-12\" class=\"sk-toggleable__label sk-toggleable__label-arrow\">estimator: DecisionTreeClassifier</label><div class=\"sk-toggleable__content\"><pre>DecisionTreeClassifier()</pre></div></div></div><div class=\"sk-serial\"><div class=\"sk-item\"><div class=\"sk-estimator sk-toggleable\"><input class=\"sk-toggleable__control sk-hidden--visually\" id=\"sk-estimator-id-13\" type=\"checkbox\" ><label for=\"sk-estimator-id-13\" class=\"sk-toggleable__label sk-toggleable__label-arrow\">DecisionTreeClassifier</label><div class=\"sk-toggleable__content\"><pre>DecisionTreeClassifier()</pre></div></div></div></div></div></div></div></div></div></div>"
      ],
      "text/plain": [
       "RandomizedSearchCV(cv=4, estimator=DecisionTreeClassifier(), n_jobs=-1,\n",
       "                   param_distributions={'criterion': ('gini', 'entropy'),\n",
       "                                        'max_depth': [1, 2, 3, 4, 5, 6, 7, 8, 9,\n",
       "                                                      10, 11, 12, 13, 14, 15,\n",
       "                                                      16, 17, 18, 19],\n",
       "                                        'min_samples_leaf': [1, 2, 3, 4, 5, 6,\n",
       "                                                             7, 8, 9, 10, 11,\n",
       "                                                             12, 13, 14, 15, 16,\n",
       "                                                             17, 18, 19],\n",
       "                                        'min_samples_split': [2, 3, 4],\n",
       "                                        'splitter': ('best', 'random')},\n",
       "                   scoring='f1', verbose=3)"
      ]
     },
     "execution_count": 170,
     "metadata": {},
     "output_type": "execute_result"
    }
   ],
   "source": [
    "grid.fit(x_train, y_train)"
   ]
  },
  {
   "cell_type": "code",
   "execution_count": 171,
   "id": "1ef276d0-76be-4601-a0d7-8b030595e5e6",
   "metadata": {},
   "outputs": [
    {
     "data": {
      "text/plain": [
       "{'splitter': 'random',\n",
       " 'min_samples_split': 3,\n",
       " 'min_samples_leaf': 11,\n",
       " 'max_depth': 1,\n",
       " 'criterion': 'gini'}"
      ]
     },
     "execution_count": 171,
     "metadata": {},
     "output_type": "execute_result"
    }
   ],
   "source": [
    "grid.best_params_"
   ]
  },
  {
   "cell_type": "code",
   "execution_count": 172,
   "id": "9f4464b0-be4b-4326-a7a9-dd487f511df9",
   "metadata": {},
   "outputs": [
    {
     "data": {
      "text/plain": [
       "0.9398166600239138"
      ]
     },
     "execution_count": 172,
     "metadata": {},
     "output_type": "execute_result"
    }
   ],
   "source": [
    "grid.best_score_"
   ]
  },
  {
   "cell_type": "code",
   "execution_count": 173,
   "id": "205d1069-3e54-4782-8606-ae806cdb13a9",
   "metadata": {},
   "outputs": [
    {
     "data": {
      "text/html": [
       "<style>#sk-container-id-10 {color: black;background-color: white;}#sk-container-id-10 pre{padding: 0;}#sk-container-id-10 div.sk-toggleable {background-color: white;}#sk-container-id-10 label.sk-toggleable__label {cursor: pointer;display: block;width: 100%;margin-bottom: 0;padding: 0.3em;box-sizing: border-box;text-align: center;}#sk-container-id-10 label.sk-toggleable__label-arrow:before {content: \"▸\";float: left;margin-right: 0.25em;color: #696969;}#sk-container-id-10 label.sk-toggleable__label-arrow:hover:before {color: black;}#sk-container-id-10 div.sk-estimator:hover label.sk-toggleable__label-arrow:before {color: black;}#sk-container-id-10 div.sk-toggleable__content {max-height: 0;max-width: 0;overflow: hidden;text-align: left;background-color: #f0f8ff;}#sk-container-id-10 div.sk-toggleable__content pre {margin: 0.2em;color: black;border-radius: 0.25em;background-color: #f0f8ff;}#sk-container-id-10 input.sk-toggleable__control:checked~div.sk-toggleable__content {max-height: 200px;max-width: 100%;overflow: auto;}#sk-container-id-10 input.sk-toggleable__control:checked~label.sk-toggleable__label-arrow:before {content: \"▾\";}#sk-container-id-10 div.sk-estimator input.sk-toggleable__control:checked~label.sk-toggleable__label {background-color: #d4ebff;}#sk-container-id-10 div.sk-label input.sk-toggleable__control:checked~label.sk-toggleable__label {background-color: #d4ebff;}#sk-container-id-10 input.sk-hidden--visually {border: 0;clip: rect(1px 1px 1px 1px);clip: rect(1px, 1px, 1px, 1px);height: 1px;margin: -1px;overflow: hidden;padding: 0;position: absolute;width: 1px;}#sk-container-id-10 div.sk-estimator {font-family: monospace;background-color: #f0f8ff;border: 1px dotted black;border-radius: 0.25em;box-sizing: border-box;margin-bottom: 0.5em;}#sk-container-id-10 div.sk-estimator:hover {background-color: #d4ebff;}#sk-container-id-10 div.sk-parallel-item::after {content: \"\";width: 100%;border-bottom: 1px solid gray;flex-grow: 1;}#sk-container-id-10 div.sk-label:hover label.sk-toggleable__label {background-color: #d4ebff;}#sk-container-id-10 div.sk-serial::before {content: \"\";position: absolute;border-left: 1px solid gray;box-sizing: border-box;top: 0;bottom: 0;left: 50%;z-index: 0;}#sk-container-id-10 div.sk-serial {display: flex;flex-direction: column;align-items: center;background-color: white;padding-right: 0.2em;padding-left: 0.2em;position: relative;}#sk-container-id-10 div.sk-item {position: relative;z-index: 1;}#sk-container-id-10 div.sk-parallel {display: flex;align-items: stretch;justify-content: center;background-color: white;position: relative;}#sk-container-id-10 div.sk-item::before, #sk-container-id-10 div.sk-parallel-item::before {content: \"\";position: absolute;border-left: 1px solid gray;box-sizing: border-box;top: 0;bottom: 0;left: 50%;z-index: -1;}#sk-container-id-10 div.sk-parallel-item {display: flex;flex-direction: column;z-index: 1;position: relative;background-color: white;}#sk-container-id-10 div.sk-parallel-item:first-child::after {align-self: flex-end;width: 50%;}#sk-container-id-10 div.sk-parallel-item:last-child::after {align-self: flex-start;width: 50%;}#sk-container-id-10 div.sk-parallel-item:only-child::after {width: 0;}#sk-container-id-10 div.sk-dashed-wrapped {border: 1px dashed gray;margin: 0 0.4em 0.5em 0.4em;box-sizing: border-box;padding-bottom: 0.4em;background-color: white;}#sk-container-id-10 div.sk-label label {font-family: monospace;font-weight: bold;display: inline-block;line-height: 1.2em;}#sk-container-id-10 div.sk-label-container {text-align: center;}#sk-container-id-10 div.sk-container {/* jupyter's `normalize.less` sets `[hidden] { display: none; }` but bootstrap.min.css set `[hidden] { display: none !important; }` so we also need the `!important` here to be able to override the default hidden behavior on the sphinx rendered scikit-learn.org. See: https://github.com/scikit-learn/scikit-learn/issues/21755 */display: inline-block !important;position: relative;}#sk-container-id-10 div.sk-text-repr-fallback {display: none;}</style><div id=\"sk-container-id-10\" class=\"sk-top-container\"><div class=\"sk-text-repr-fallback\"><pre>DecisionTreeClassifier()</pre><b>In a Jupyter environment, please rerun this cell to show the HTML representation or trust the notebook. <br />On GitHub, the HTML representation is unable to render, please try loading this page with nbviewer.org.</b></div><div class=\"sk-container\" hidden><div class=\"sk-item\"><div class=\"sk-estimator sk-toggleable\"><input class=\"sk-toggleable__control sk-hidden--visually\" id=\"sk-estimator-id-14\" type=\"checkbox\" checked><label for=\"sk-estimator-id-14\" class=\"sk-toggleable__label sk-toggleable__label-arrow\">DecisionTreeClassifier</label><div class=\"sk-toggleable__content\"><pre>DecisionTreeClassifier()</pre></div></div></div></div></div>"
      ],
      "text/plain": [
       "DecisionTreeClassifier()"
      ]
     },
     "execution_count": 173,
     "metadata": {},
     "output_type": "execute_result"
    }
   ],
   "source": [
    "dt3=DecisionTreeClassifier()\n",
    "dt3"
   ]
  },
  {
   "cell_type": "code",
   "execution_count": 174,
   "id": "2fa18572-b643-4c49-92e0-21f293ff8b79",
   "metadata": {},
   "outputs": [
    {
     "data": {
      "text/html": [
       "<style>#sk-container-id-11 {color: black;background-color: white;}#sk-container-id-11 pre{padding: 0;}#sk-container-id-11 div.sk-toggleable {background-color: white;}#sk-container-id-11 label.sk-toggleable__label {cursor: pointer;display: block;width: 100%;margin-bottom: 0;padding: 0.3em;box-sizing: border-box;text-align: center;}#sk-container-id-11 label.sk-toggleable__label-arrow:before {content: \"▸\";float: left;margin-right: 0.25em;color: #696969;}#sk-container-id-11 label.sk-toggleable__label-arrow:hover:before {color: black;}#sk-container-id-11 div.sk-estimator:hover label.sk-toggleable__label-arrow:before {color: black;}#sk-container-id-11 div.sk-toggleable__content {max-height: 0;max-width: 0;overflow: hidden;text-align: left;background-color: #f0f8ff;}#sk-container-id-11 div.sk-toggleable__content pre {margin: 0.2em;color: black;border-radius: 0.25em;background-color: #f0f8ff;}#sk-container-id-11 input.sk-toggleable__control:checked~div.sk-toggleable__content {max-height: 200px;max-width: 100%;overflow: auto;}#sk-container-id-11 input.sk-toggleable__control:checked~label.sk-toggleable__label-arrow:before {content: \"▾\";}#sk-container-id-11 div.sk-estimator input.sk-toggleable__control:checked~label.sk-toggleable__label {background-color: #d4ebff;}#sk-container-id-11 div.sk-label input.sk-toggleable__control:checked~label.sk-toggleable__label {background-color: #d4ebff;}#sk-container-id-11 input.sk-hidden--visually {border: 0;clip: rect(1px 1px 1px 1px);clip: rect(1px, 1px, 1px, 1px);height: 1px;margin: -1px;overflow: hidden;padding: 0;position: absolute;width: 1px;}#sk-container-id-11 div.sk-estimator {font-family: monospace;background-color: #f0f8ff;border: 1px dotted black;border-radius: 0.25em;box-sizing: border-box;margin-bottom: 0.5em;}#sk-container-id-11 div.sk-estimator:hover {background-color: #d4ebff;}#sk-container-id-11 div.sk-parallel-item::after {content: \"\";width: 100%;border-bottom: 1px solid gray;flex-grow: 1;}#sk-container-id-11 div.sk-label:hover label.sk-toggleable__label {background-color: #d4ebff;}#sk-container-id-11 div.sk-serial::before {content: \"\";position: absolute;border-left: 1px solid gray;box-sizing: border-box;top: 0;bottom: 0;left: 50%;z-index: 0;}#sk-container-id-11 div.sk-serial {display: flex;flex-direction: column;align-items: center;background-color: white;padding-right: 0.2em;padding-left: 0.2em;position: relative;}#sk-container-id-11 div.sk-item {position: relative;z-index: 1;}#sk-container-id-11 div.sk-parallel {display: flex;align-items: stretch;justify-content: center;background-color: white;position: relative;}#sk-container-id-11 div.sk-item::before, #sk-container-id-11 div.sk-parallel-item::before {content: \"\";position: absolute;border-left: 1px solid gray;box-sizing: border-box;top: 0;bottom: 0;left: 50%;z-index: -1;}#sk-container-id-11 div.sk-parallel-item {display: flex;flex-direction: column;z-index: 1;position: relative;background-color: white;}#sk-container-id-11 div.sk-parallel-item:first-child::after {align-self: flex-end;width: 50%;}#sk-container-id-11 div.sk-parallel-item:last-child::after {align-self: flex-start;width: 50%;}#sk-container-id-11 div.sk-parallel-item:only-child::after {width: 0;}#sk-container-id-11 div.sk-dashed-wrapped {border: 1px dashed gray;margin: 0 0.4em 0.5em 0.4em;box-sizing: border-box;padding-bottom: 0.4em;background-color: white;}#sk-container-id-11 div.sk-label label {font-family: monospace;font-weight: bold;display: inline-block;line-height: 1.2em;}#sk-container-id-11 div.sk-label-container {text-align: center;}#sk-container-id-11 div.sk-container {/* jupyter's `normalize.less` sets `[hidden] { display: none; }` but bootstrap.min.css set `[hidden] { display: none !important; }` so we also need the `!important` here to be able to override the default hidden behavior on the sphinx rendered scikit-learn.org. See: https://github.com/scikit-learn/scikit-learn/issues/21755 */display: inline-block !important;position: relative;}#sk-container-id-11 div.sk-text-repr-fallback {display: none;}</style><div id=\"sk-container-id-11\" class=\"sk-top-container\"><div class=\"sk-text-repr-fallback\"><pre>DecisionTreeClassifier()</pre><b>In a Jupyter environment, please rerun this cell to show the HTML representation or trust the notebook. <br />On GitHub, the HTML representation is unable to render, please try loading this page with nbviewer.org.</b></div><div class=\"sk-container\" hidden><div class=\"sk-item\"><div class=\"sk-estimator sk-toggleable\"><input class=\"sk-toggleable__control sk-hidden--visually\" id=\"sk-estimator-id-15\" type=\"checkbox\" checked><label for=\"sk-estimator-id-15\" class=\"sk-toggleable__label sk-toggleable__label-arrow\">DecisionTreeClassifier</label><div class=\"sk-toggleable__content\"><pre>DecisionTreeClassifier()</pre></div></div></div></div></div>"
      ],
      "text/plain": [
       "DecisionTreeClassifier()"
      ]
     },
     "execution_count": 174,
     "metadata": {},
     "output_type": "execute_result"
    }
   ],
   "source": [
    "dt3.fit(x_train,y_train)\n",
    "dt3"
   ]
  },
  {
   "cell_type": "code",
   "execution_count": 175,
   "id": "a221afe2-984e-4375-9f14-cb57d47f1029",
   "metadata": {},
   "outputs": [
    {
     "data": {
      "text/plain": [
       "array([1, 1, 1, ..., 1, 1, 1], dtype=int64)"
      ]
     },
     "execution_count": 175,
     "metadata": {},
     "output_type": "execute_result"
    }
   ],
   "source": [
    "y_pred_hdt=dt3.predict(x_test)\n",
    "y_pred_hdt"
   ]
  },
  {
   "cell_type": "code",
   "execution_count": 176,
   "id": "8f7c787f-a960-453d-9211-4050a0783ef6",
   "metadata": {},
   "outputs": [
    {
     "data": {
      "text/plain": [
       "array([1, 1, 1, ..., 1, 1, 1], dtype=int64)"
      ]
     },
     "execution_count": 176,
     "metadata": {},
     "output_type": "execute_result"
    }
   ],
   "source": [
    "y_test.values"
   ]
  },
  {
   "cell_type": "markdown",
   "id": "e82143b6-7ccf-4959-815f-dd3a7f3e0d61",
   "metadata": {},
   "source": [
    "## Model Evaluation of Decision Tree With hyperparameter tunning"
   ]
  },
  {
   "cell_type": "code",
   "execution_count": 177,
   "id": "71332fe2-8171-47b7-a39b-67d82e045959",
   "metadata": {},
   "outputs": [
    {
     "data": {
      "text/plain": [
       "0.805952380952381"
      ]
     },
     "execution_count": 177,
     "metadata": {},
     "output_type": "execute_result"
    }
   ],
   "source": [
    "accuracy_score(y_test,y_pred_hdt)"
   ]
  },
  {
   "cell_type": "code",
   "execution_count": 178,
   "id": "1e4cb087-0bfe-4f36-9821-31e9b3aae504",
   "metadata": {},
   "outputs": [
    {
     "data": {
      "text/plain": [
       "0.8900134952766532"
      ]
     },
     "execution_count": 178,
     "metadata": {},
     "output_type": "execute_result"
    }
   ],
   "source": [
    "f1_score(y_test,y_pred_hdt)"
   ]
  },
  {
   "cell_type": "code",
   "execution_count": 179,
   "id": "3fe57ba2-e014-448e-bd92-020b0a2cdcd4",
   "metadata": {},
   "outputs": [
    {
     "data": {
      "text/plain": [
       "0.8764119601328904"
      ]
     },
     "execution_count": 179,
     "metadata": {},
     "output_type": "execute_result"
    }
   ],
   "source": [
    "recall_score(y_test,y_pred_hdt)"
   ]
  },
  {
   "cell_type": "code",
   "execution_count": 180,
   "id": "ae31e143-5dc2-485c-ab78-1612a7547203",
   "metadata": {},
   "outputs": [
    {
     "data": {
      "text/plain": [
       "0.9040438656614119"
      ]
     },
     "execution_count": 180,
     "metadata": {},
     "output_type": "execute_result"
    }
   ],
   "source": [
    "precision_score(y_test,y_pred_hdt)"
   ]
  },
  {
   "cell_type": "code",
   "execution_count": 181,
   "id": "43ad66dd-9683-4b49-bbcb-4b843d21e254",
   "metadata": {},
   "outputs": [
    {
     "data": {
      "text/plain": [
       "0.5382059800664452"
      ]
     },
     "execution_count": 181,
     "metadata": {},
     "output_type": "execute_result"
    }
   ],
   "source": [
    "roc_auc_score(y_test,y_pred_hdt)"
   ]
  },
  {
   "cell_type": "markdown",
   "id": "95bb0218-19ef-4b58-a11f-7229e3dddc3d",
   "metadata": {},
   "source": [
    "# XGBoost"
   ]
  },
  {
   "cell_type": "code",
   "execution_count": 182,
   "id": "bf63b3c2-dddd-4acf-91a7-57485e2ff902",
   "metadata": {},
   "outputs": [],
   "source": [
    "from sklearn.ensemble import GradientBoostingClassifier\n",
    "gbm = GradientBoostingClassifier()"
   ]
  },
  {
   "cell_type": "code",
   "execution_count": 183,
   "id": "20aea38b-a247-4fee-8545-8881a98b7d68",
   "metadata": {},
   "outputs": [
    {
     "data": {
      "text/html": [
       "<style>#sk-container-id-12 {color: black;background-color: white;}#sk-container-id-12 pre{padding: 0;}#sk-container-id-12 div.sk-toggleable {background-color: white;}#sk-container-id-12 label.sk-toggleable__label {cursor: pointer;display: block;width: 100%;margin-bottom: 0;padding: 0.3em;box-sizing: border-box;text-align: center;}#sk-container-id-12 label.sk-toggleable__label-arrow:before {content: \"▸\";float: left;margin-right: 0.25em;color: #696969;}#sk-container-id-12 label.sk-toggleable__label-arrow:hover:before {color: black;}#sk-container-id-12 div.sk-estimator:hover label.sk-toggleable__label-arrow:before {color: black;}#sk-container-id-12 div.sk-toggleable__content {max-height: 0;max-width: 0;overflow: hidden;text-align: left;background-color: #f0f8ff;}#sk-container-id-12 div.sk-toggleable__content pre {margin: 0.2em;color: black;border-radius: 0.25em;background-color: #f0f8ff;}#sk-container-id-12 input.sk-toggleable__control:checked~div.sk-toggleable__content {max-height: 200px;max-width: 100%;overflow: auto;}#sk-container-id-12 input.sk-toggleable__control:checked~label.sk-toggleable__label-arrow:before {content: \"▾\";}#sk-container-id-12 div.sk-estimator input.sk-toggleable__control:checked~label.sk-toggleable__label {background-color: #d4ebff;}#sk-container-id-12 div.sk-label input.sk-toggleable__control:checked~label.sk-toggleable__label {background-color: #d4ebff;}#sk-container-id-12 input.sk-hidden--visually {border: 0;clip: rect(1px 1px 1px 1px);clip: rect(1px, 1px, 1px, 1px);height: 1px;margin: -1px;overflow: hidden;padding: 0;position: absolute;width: 1px;}#sk-container-id-12 div.sk-estimator {font-family: monospace;background-color: #f0f8ff;border: 1px dotted black;border-radius: 0.25em;box-sizing: border-box;margin-bottom: 0.5em;}#sk-container-id-12 div.sk-estimator:hover {background-color: #d4ebff;}#sk-container-id-12 div.sk-parallel-item::after {content: \"\";width: 100%;border-bottom: 1px solid gray;flex-grow: 1;}#sk-container-id-12 div.sk-label:hover label.sk-toggleable__label {background-color: #d4ebff;}#sk-container-id-12 div.sk-serial::before {content: \"\";position: absolute;border-left: 1px solid gray;box-sizing: border-box;top: 0;bottom: 0;left: 50%;z-index: 0;}#sk-container-id-12 div.sk-serial {display: flex;flex-direction: column;align-items: center;background-color: white;padding-right: 0.2em;padding-left: 0.2em;position: relative;}#sk-container-id-12 div.sk-item {position: relative;z-index: 1;}#sk-container-id-12 div.sk-parallel {display: flex;align-items: stretch;justify-content: center;background-color: white;position: relative;}#sk-container-id-12 div.sk-item::before, #sk-container-id-12 div.sk-parallel-item::before {content: \"\";position: absolute;border-left: 1px solid gray;box-sizing: border-box;top: 0;bottom: 0;left: 50%;z-index: -1;}#sk-container-id-12 div.sk-parallel-item {display: flex;flex-direction: column;z-index: 1;position: relative;background-color: white;}#sk-container-id-12 div.sk-parallel-item:first-child::after {align-self: flex-end;width: 50%;}#sk-container-id-12 div.sk-parallel-item:last-child::after {align-self: flex-start;width: 50%;}#sk-container-id-12 div.sk-parallel-item:only-child::after {width: 0;}#sk-container-id-12 div.sk-dashed-wrapped {border: 1px dashed gray;margin: 0 0.4em 0.5em 0.4em;box-sizing: border-box;padding-bottom: 0.4em;background-color: white;}#sk-container-id-12 div.sk-label label {font-family: monospace;font-weight: bold;display: inline-block;line-height: 1.2em;}#sk-container-id-12 div.sk-label-container {text-align: center;}#sk-container-id-12 div.sk-container {/* jupyter's `normalize.less` sets `[hidden] { display: none; }` but bootstrap.min.css set `[hidden] { display: none !important; }` so we also need the `!important` here to be able to override the default hidden behavior on the sphinx rendered scikit-learn.org. See: https://github.com/scikit-learn/scikit-learn/issues/21755 */display: inline-block !important;position: relative;}#sk-container-id-12 div.sk-text-repr-fallback {display: none;}</style><div id=\"sk-container-id-12\" class=\"sk-top-container\"><div class=\"sk-text-repr-fallback\"><pre>GradientBoostingClassifier()</pre><b>In a Jupyter environment, please rerun this cell to show the HTML representation or trust the notebook. <br />On GitHub, the HTML representation is unable to render, please try loading this page with nbviewer.org.</b></div><div class=\"sk-container\" hidden><div class=\"sk-item\"><div class=\"sk-estimator sk-toggleable\"><input class=\"sk-toggleable__control sk-hidden--visually\" id=\"sk-estimator-id-16\" type=\"checkbox\" checked><label for=\"sk-estimator-id-16\" class=\"sk-toggleable__label sk-toggleable__label-arrow\">GradientBoostingClassifier</label><div class=\"sk-toggleable__content\"><pre>GradientBoostingClassifier()</pre></div></div></div></div></div>"
      ],
      "text/plain": [
       "GradientBoostingClassifier()"
      ]
     },
     "execution_count": 183,
     "metadata": {},
     "output_type": "execute_result"
    }
   ],
   "source": [
    "gbm.fit(x_train,y_train)"
   ]
  },
  {
   "cell_type": "code",
   "execution_count": 184,
   "id": "18c31343-7883-4119-bfd2-633f8c9541ee",
   "metadata": {},
   "outputs": [
    {
     "data": {
      "text/plain": [
       "array([1, 1, 1, ..., 1, 1, 1], dtype=int64)"
      ]
     },
     "execution_count": 184,
     "metadata": {},
     "output_type": "execute_result"
    }
   ],
   "source": [
    "y_gbm = gbm.predict(x_test)#predicting the price\n",
    "y_gbm"
   ]
  },
  {
   "cell_type": "markdown",
   "id": "5879f282-2ed6-4fee-8777-e27a0b4aea84",
   "metadata": {},
   "source": [
    "## Model Evaluation"
   ]
  },
  {
   "cell_type": "code",
   "execution_count": 189,
   "id": "ba4ff0cc-a352-405c-9ec2-f7a063490366",
   "metadata": {},
   "outputs": [],
   "source": [
    "from sklearn.metrics import accuracy_score,recall_score,precision_score,f1_score,classification_report"
   ]
  },
  {
   "cell_type": "code",
   "execution_count": 190,
   "id": "ced8edbe-249b-48df-a221-2d91493740fb",
   "metadata": {},
   "outputs": [
    {
     "data": {
      "text/plain": [
       "0.893452380952381"
      ]
     },
     "execution_count": 190,
     "metadata": {},
     "output_type": "execute_result"
    }
   ],
   "source": [
    "accuracy_score(y_test,y_gbm)"
   ]
  },
  {
   "cell_type": "code",
   "execution_count": 191,
   "id": "9cfb5e3d-197f-44ce-bd2c-72b18b9c1431",
   "metadata": {},
   "outputs": [
    {
     "data": {
      "text/plain": [
       "0.9437283872995913"
      ]
     },
     "execution_count": 191,
     "metadata": {},
     "output_type": "execute_result"
    }
   ],
   "source": [
    "f1_score(y_test,y_gbm)"
   ]
  },
  {
   "cell_type": "code",
   "execution_count": 192,
   "id": "f0574cbb-758e-4a1c-bdfc-2d528013e4d5",
   "metadata": {},
   "outputs": [
    {
     "data": {
      "text/plain": [
       "0.9973421926910299"
      ]
     },
     "execution_count": 192,
     "metadata": {},
     "output_type": "execute_result"
    }
   ],
   "source": [
    "recall_score(y_test,y_gbm)"
   ]
  },
  {
   "cell_type": "code",
   "execution_count": 193,
   "id": "1bed32b7-218a-44ba-a519-584a41973d02",
   "metadata": {},
   "outputs": [
    {
     "data": {
      "text/plain": [
       "0.8955847255369929"
      ]
     },
     "execution_count": 193,
     "metadata": {},
     "output_type": "execute_result"
    }
   ],
   "source": [
    "precision_score(y_test,y_gbm)"
   ]
  },
  {
   "cell_type": "code",
   "execution_count": 194,
   "id": "9e05278f-0e94-4fbd-ac88-0ab937fcb11f",
   "metadata": {},
   "outputs": [
    {
     "data": {
      "text/plain": [
       "0.49867109634551493"
      ]
     },
     "execution_count": 194,
     "metadata": {},
     "output_type": "execute_result"
    }
   ],
   "source": [
    "roc_auc_score(y_test,y_gbm)"
   ]
  },
  {
   "cell_type": "markdown",
   "id": "f7dd3f37-3451-4788-b50a-cd8a95034c76",
   "metadata": {},
   "source": [
    "# Cross Validation"
   ]
  },
  {
   "cell_type": "code",
   "execution_count": 195,
   "id": "c3d486ea-840f-42a5-939a-fdb06c7199ee",
   "metadata": {},
   "outputs": [],
   "source": [
    "from sklearn.model_selection import cross_val_score"
   ]
  },
  {
   "cell_type": "code",
   "execution_count": 196,
   "id": "22ea2172-88f0-42ac-903e-0c5786341581",
   "metadata": {},
   "outputs": [],
   "source": [
    "gbm1=GradientBoostingClassifier()"
   ]
  },
  {
   "cell_type": "code",
   "execution_count": 197,
   "id": "c73e8d4e-fde6-4841-b739-78914d6b2aba",
   "metadata": {},
   "outputs": [
    {
     "data": {
      "text/plain": [
       "array([0.94171083, 0.94010614, 0.94046265, 0.9400607 , 0.94166667])"
      ]
     },
     "execution_count": 197,
     "metadata": {},
     "output_type": "execute_result"
    }
   ],
   "source": [
    "cv=cross_val_score(gbm1,x,y,cv=5,scoring='f1')\n",
    "cv"
   ]
  },
  {
   "cell_type": "code",
   "execution_count": 198,
   "id": "2467bbe7-3769-4e52-b0ee-d0d878c2d285",
   "metadata": {},
   "outputs": [
    {
     "data": {
      "text/plain": [
       "0.9408013955579332"
      ]
     },
     "execution_count": 198,
     "metadata": {},
     "output_type": "execute_result"
    }
   ],
   "source": [
    "cv.mean()"
   ]
  },
  {
   "cell_type": "code",
   "execution_count": 199,
   "id": "8714fc72-e10c-4be6-b2a0-9170b092fb7c",
   "metadata": {},
   "outputs": [
    {
     "data": {
      "text/plain": [
       "0.0007379049496958368"
      ]
     },
     "execution_count": 199,
     "metadata": {},
     "output_type": "execute_result"
    }
   ],
   "source": [
    "cv.std()"
   ]
  },
  {
   "cell_type": "markdown",
   "id": "c1e802fe-4b58-440c-9551-adc50e8100c4",
   "metadata": {},
   "source": [
    "## Hyperparameter Tunning"
   ]
  },
  {
   "cell_type": "code",
   "execution_count": 200,
   "id": "f9b3441e-26ad-4d41-826c-b020dfd342cf",
   "metadata": {},
   "outputs": [],
   "source": [
    "from sklearn.model_selection import GridSearchCV"
   ]
  },
  {
   "cell_type": "code",
   "execution_count": 201,
   "id": "8600a52e-6f62-4768-bc49-3ce8b20dfb37",
   "metadata": {},
   "outputs": [],
   "source": [
    "gbm2=GradientBoostingClassifier()"
   ]
  },
  {
   "cell_type": "code",
   "execution_count": 202,
   "id": "305aa187-d798-46d7-991c-55849d1dfe29",
   "metadata": {},
   "outputs": [],
   "source": [
    "param_grid_xgb= {\n",
    "    'max_depth': [3, 5, 7],\n",
    "    'learning_rate': [0.1, 0.01, 0.001],\n",
    "    'subsample': [0.5, 0.7, 1]\n",
    "}"
   ]
  },
  {
   "cell_type": "code",
   "execution_count": 203,
   "id": "aac0314b-5744-4866-b8e4-d8c1553d96f7",
   "metadata": {},
   "outputs": [],
   "source": [
    "grid=GridSearchCV(gbm2,param_grid_xgb,scoring='f1',cv=5,verbose=3)"
   ]
  },
  {
   "cell_type": "code",
   "execution_count": 204,
   "id": "de00042d-c9f2-4eab-ac5d-e2987fcd6b0f",
   "metadata": {},
   "outputs": [
    {
     "name": "stdout",
     "output_type": "stream",
     "text": [
      "Fitting 5 folds for each of 27 candidates, totalling 135 fits\n",
      "[CV 1/5] END learning_rate=0.1, max_depth=3, subsample=0.5;, score=0.944 total time=   1.0s\n",
      "[CV 2/5] END learning_rate=0.1, max_depth=3, subsample=0.5;, score=0.939 total time=   1.1s\n",
      "[CV 3/5] END learning_rate=0.1, max_depth=3, subsample=0.5;, score=0.938 total time=   0.9s\n",
      "[CV 4/5] END learning_rate=0.1, max_depth=3, subsample=0.5;, score=0.934 total time=   0.7s\n",
      "[CV 5/5] END learning_rate=0.1, max_depth=3, subsample=0.5;, score=0.942 total time=   0.7s\n",
      "[CV 1/5] END learning_rate=0.1, max_depth=3, subsample=0.7;, score=0.939 total time=   1.1s\n",
      "[CV 2/5] END learning_rate=0.1, max_depth=3, subsample=0.7;, score=0.938 total time=   1.4s\n",
      "[CV 3/5] END learning_rate=0.1, max_depth=3, subsample=0.7;, score=0.937 total time=   0.9s\n",
      "[CV 4/5] END learning_rate=0.1, max_depth=3, subsample=0.7;, score=0.937 total time=   0.8s\n",
      "[CV 5/5] END learning_rate=0.1, max_depth=3, subsample=0.7;, score=0.942 total time=   0.8s\n",
      "[CV 1/5] END learning_rate=0.1, max_depth=3, subsample=1;, score=0.939 total time=   0.7s\n",
      "[CV 2/5] END learning_rate=0.1, max_depth=3, subsample=1;, score=0.938 total time=   0.7s\n",
      "[CV 3/5] END learning_rate=0.1, max_depth=3, subsample=1;, score=0.938 total time=   0.7s\n",
      "[CV 4/5] END learning_rate=0.1, max_depth=3, subsample=1;, score=0.938 total time=   0.8s\n",
      "[CV 5/5] END learning_rate=0.1, max_depth=3, subsample=1;, score=0.942 total time=   0.7s\n",
      "[CV 1/5] END learning_rate=0.1, max_depth=5, subsample=0.5;, score=0.933 total time=   1.1s\n",
      "[CV 2/5] END learning_rate=0.1, max_depth=5, subsample=0.5;, score=0.934 total time=   1.0s\n",
      "[CV 3/5] END learning_rate=0.1, max_depth=5, subsample=0.5;, score=0.932 total time=   1.0s\n",
      "[CV 4/5] END learning_rate=0.1, max_depth=5, subsample=0.5;, score=0.932 total time=   1.0s\n",
      "[CV 5/5] END learning_rate=0.1, max_depth=5, subsample=0.5;, score=0.935 total time=   1.0s\n",
      "[CV 1/5] END learning_rate=0.1, max_depth=5, subsample=0.7;, score=0.934 total time=   1.0s\n",
      "[CV 2/5] END learning_rate=0.1, max_depth=5, subsample=0.7;, score=0.934 total time=   1.1s\n",
      "[CV 3/5] END learning_rate=0.1, max_depth=5, subsample=0.7;, score=0.932 total time=   1.1s\n",
      "[CV 4/5] END learning_rate=0.1, max_depth=5, subsample=0.7;, score=0.936 total time=   1.1s\n",
      "[CV 5/5] END learning_rate=0.1, max_depth=5, subsample=0.7;, score=0.938 total time=   1.2s\n",
      "[CV 1/5] END learning_rate=0.1, max_depth=5, subsample=1;, score=0.935 total time=   1.1s\n",
      "[CV 2/5] END learning_rate=0.1, max_depth=5, subsample=1;, score=0.934 total time=   1.1s\n",
      "[CV 3/5] END learning_rate=0.1, max_depth=5, subsample=1;, score=0.934 total time=   1.1s\n",
      "[CV 4/5] END learning_rate=0.1, max_depth=5, subsample=1;, score=0.935 total time=   1.1s\n",
      "[CV 5/5] END learning_rate=0.1, max_depth=5, subsample=1;, score=0.936 total time=   1.1s\n",
      "[CV 1/5] END learning_rate=0.1, max_depth=7, subsample=0.5;, score=0.919 total time=   1.9s\n",
      "[CV 2/5] END learning_rate=0.1, max_depth=7, subsample=0.5;, score=0.927 total time=   1.9s\n",
      "[CV 3/5] END learning_rate=0.1, max_depth=7, subsample=0.5;, score=0.921 total time=   1.9s\n",
      "[CV 4/5] END learning_rate=0.1, max_depth=7, subsample=0.5;, score=0.920 total time=   2.1s\n",
      "[CV 5/5] END learning_rate=0.1, max_depth=7, subsample=0.5;, score=0.926 total time=   1.8s\n",
      "[CV 1/5] END learning_rate=0.1, max_depth=7, subsample=0.7;, score=0.914 total time=   2.1s\n",
      "[CV 2/5] END learning_rate=0.1, max_depth=7, subsample=0.7;, score=0.921 total time=   2.0s\n",
      "[CV 3/5] END learning_rate=0.1, max_depth=7, subsample=0.7;, score=0.925 total time=   2.0s\n",
      "[CV 4/5] END learning_rate=0.1, max_depth=7, subsample=0.7;, score=0.924 total time=   2.0s\n",
      "[CV 5/5] END learning_rate=0.1, max_depth=7, subsample=0.7;, score=0.919 total time=   1.9s\n",
      "[CV 1/5] END learning_rate=0.1, max_depth=7, subsample=1;, score=0.916 total time=   2.3s\n",
      "[CV 2/5] END learning_rate=0.1, max_depth=7, subsample=1;, score=0.925 total time=   3.9s\n",
      "[CV 3/5] END learning_rate=0.1, max_depth=7, subsample=1;, score=0.920 total time=   3.6s\n",
      "[CV 4/5] END learning_rate=0.1, max_depth=7, subsample=1;, score=0.927 total time=   3.5s\n",
      "[CV 5/5] END learning_rate=0.1, max_depth=7, subsample=1;, score=0.922 total time=   2.2s\n",
      "[CV 1/5] END learning_rate=0.01, max_depth=3, subsample=0.5;, score=0.940 total time=   0.6s\n",
      "[CV 2/5] END learning_rate=0.01, max_depth=3, subsample=0.5;, score=0.940 total time=   0.6s\n",
      "[CV 3/5] END learning_rate=0.01, max_depth=3, subsample=0.5;, score=0.940 total time=   1.0s\n",
      "[CV 4/5] END learning_rate=0.01, max_depth=3, subsample=0.5;, score=0.940 total time=   1.1s\n",
      "[CV 5/5] END learning_rate=0.01, max_depth=3, subsample=0.5;, score=0.940 total time=   1.0s\n",
      "[CV 1/5] END learning_rate=0.01, max_depth=3, subsample=0.7;, score=0.940 total time=   0.7s\n",
      "[CV 2/5] END learning_rate=0.01, max_depth=3, subsample=0.7;, score=0.940 total time=   0.7s\n",
      "[CV 3/5] END learning_rate=0.01, max_depth=3, subsample=0.7;, score=0.940 total time=   0.7s\n",
      "[CV 4/5] END learning_rate=0.01, max_depth=3, subsample=0.7;, score=0.940 total time=   0.7s\n",
      "[CV 5/5] END learning_rate=0.01, max_depth=3, subsample=0.7;, score=0.940 total time=   0.6s\n",
      "[CV 1/5] END learning_rate=0.01, max_depth=3, subsample=1;, score=0.940 total time=   0.7s\n",
      "[CV 2/5] END learning_rate=0.01, max_depth=3, subsample=1;, score=0.940 total time=   0.8s\n",
      "[CV 3/5] END learning_rate=0.01, max_depth=3, subsample=1;, score=0.940 total time=   0.7s\n",
      "[CV 4/5] END learning_rate=0.01, max_depth=3, subsample=1;, score=0.940 total time=   0.7s\n",
      "[CV 5/5] END learning_rate=0.01, max_depth=3, subsample=1;, score=0.940 total time=   0.6s\n",
      "[CV 1/5] END learning_rate=0.01, max_depth=5, subsample=0.5;, score=0.940 total time=   0.9s\n",
      "[CV 2/5] END learning_rate=0.01, max_depth=5, subsample=0.5;, score=0.940 total time=   0.9s\n",
      "[CV 3/5] END learning_rate=0.01, max_depth=5, subsample=0.5;, score=0.940 total time=   0.9s\n",
      "[CV 4/5] END learning_rate=0.01, max_depth=5, subsample=0.5;, score=0.940 total time=   1.0s\n",
      "[CV 5/5] END learning_rate=0.01, max_depth=5, subsample=0.5;, score=0.940 total time=   0.9s\n",
      "[CV 1/5] END learning_rate=0.01, max_depth=5, subsample=0.7;, score=0.940 total time=   1.0s\n",
      "[CV 2/5] END learning_rate=0.01, max_depth=5, subsample=0.7;, score=0.940 total time=   1.1s\n",
      "[CV 3/5] END learning_rate=0.01, max_depth=5, subsample=0.7;, score=0.940 total time=   1.3s\n",
      "[CV 4/5] END learning_rate=0.01, max_depth=5, subsample=0.7;, score=0.940 total time=   0.9s\n",
      "[CV 5/5] END learning_rate=0.01, max_depth=5, subsample=0.7;, score=0.940 total time=   1.0s\n",
      "[CV 1/5] END learning_rate=0.01, max_depth=5, subsample=1;, score=0.940 total time=   1.1s\n",
      "[CV 2/5] END learning_rate=0.01, max_depth=5, subsample=1;, score=0.940 total time=   1.1s\n",
      "[CV 3/5] END learning_rate=0.01, max_depth=5, subsample=1;, score=0.940 total time=   1.1s\n",
      "[CV 4/5] END learning_rate=0.01, max_depth=5, subsample=1;, score=0.940 total time=   1.1s\n",
      "[CV 5/5] END learning_rate=0.01, max_depth=5, subsample=1;, score=0.940 total time=   1.1s\n",
      "[CV 1/5] END learning_rate=0.01, max_depth=7, subsample=0.5;, score=0.940 total time=   1.7s\n",
      "[CV 2/5] END learning_rate=0.01, max_depth=7, subsample=0.5;, score=0.940 total time=   1.8s\n",
      "[CV 3/5] END learning_rate=0.01, max_depth=7, subsample=0.5;, score=0.940 total time=   1.9s\n",
      "[CV 4/5] END learning_rate=0.01, max_depth=7, subsample=0.5;, score=0.940 total time=   1.8s\n",
      "[CV 5/5] END learning_rate=0.01, max_depth=7, subsample=0.5;, score=0.940 total time=   1.8s\n",
      "[CV 1/5] END learning_rate=0.01, max_depth=7, subsample=0.7;, score=0.940 total time=   1.9s\n",
      "[CV 2/5] END learning_rate=0.01, max_depth=7, subsample=0.7;, score=0.939 total time=   2.0s\n",
      "[CV 3/5] END learning_rate=0.01, max_depth=7, subsample=0.7;, score=0.940 total time=   2.0s\n",
      "[CV 4/5] END learning_rate=0.01, max_depth=7, subsample=0.7;, score=0.940 total time=   2.0s\n",
      "[CV 5/5] END learning_rate=0.01, max_depth=7, subsample=0.7;, score=0.940 total time=   1.9s\n",
      "[CV 1/5] END learning_rate=0.01, max_depth=7, subsample=1;, score=0.939 total time=   1.9s\n",
      "[CV 2/5] END learning_rate=0.01, max_depth=7, subsample=1;, score=0.939 total time=   2.4s\n",
      "[CV 3/5] END learning_rate=0.01, max_depth=7, subsample=1;, score=0.939 total time=   1.9s\n",
      "[CV 4/5] END learning_rate=0.01, max_depth=7, subsample=1;, score=0.940 total time=   2.0s\n",
      "[CV 5/5] END learning_rate=0.01, max_depth=7, subsample=1;, score=0.940 total time=   2.2s\n",
      "[CV 1/5] END learning_rate=0.001, max_depth=3, subsample=0.5;, score=0.940 total time=   0.7s\n",
      "[CV 2/5] END learning_rate=0.001, max_depth=3, subsample=0.5;, score=0.940 total time=   1.0s\n",
      "[CV 3/5] END learning_rate=0.001, max_depth=3, subsample=0.5;, score=0.940 total time=   1.3s\n",
      "[CV 4/5] END learning_rate=0.001, max_depth=3, subsample=0.5;, score=0.940 total time=   1.2s\n",
      "[CV 5/5] END learning_rate=0.001, max_depth=3, subsample=0.5;, score=0.940 total time=   0.6s\n",
      "[CV 1/5] END learning_rate=0.001, max_depth=3, subsample=0.7;, score=0.940 total time=   0.7s\n",
      "[CV 2/5] END learning_rate=0.001, max_depth=3, subsample=0.7;, score=0.940 total time=   1.0s\n",
      "[CV 3/5] END learning_rate=0.001, max_depth=3, subsample=0.7;, score=0.940 total time=   0.7s\n",
      "[CV 4/5] END learning_rate=0.001, max_depth=3, subsample=0.7;, score=0.940 total time=   0.6s\n",
      "[CV 5/5] END learning_rate=0.001, max_depth=3, subsample=0.7;, score=0.940 total time=   0.8s\n",
      "[CV 1/5] END learning_rate=0.001, max_depth=3, subsample=1;, score=0.940 total time=   0.8s\n",
      "[CV 2/5] END learning_rate=0.001, max_depth=3, subsample=1;, score=0.940 total time=   1.0s\n",
      "[CV 3/5] END learning_rate=0.001, max_depth=3, subsample=1;, score=0.940 total time=   0.8s\n",
      "[CV 4/5] END learning_rate=0.001, max_depth=3, subsample=1;, score=0.940 total time=   0.8s\n",
      "[CV 5/5] END learning_rate=0.001, max_depth=3, subsample=1;, score=0.940 total time=   0.9s\n",
      "[CV 1/5] END learning_rate=0.001, max_depth=5, subsample=0.5;, score=0.940 total time=   1.6s\n",
      "[CV 2/5] END learning_rate=0.001, max_depth=5, subsample=0.5;, score=0.940 total time=   2.3s\n",
      "[CV 3/5] END learning_rate=0.001, max_depth=5, subsample=0.5;, score=0.940 total time=   2.0s\n",
      "[CV 4/5] END learning_rate=0.001, max_depth=5, subsample=0.5;, score=0.940 total time=   1.6s\n",
      "[CV 5/5] END learning_rate=0.001, max_depth=5, subsample=0.5;, score=0.940 total time=   0.9s\n",
      "[CV 1/5] END learning_rate=0.001, max_depth=5, subsample=0.7;, score=0.940 total time=   1.0s\n",
      "[CV 2/5] END learning_rate=0.001, max_depth=5, subsample=0.7;, score=0.940 total time=   1.1s\n",
      "[CV 3/5] END learning_rate=0.001, max_depth=5, subsample=0.7;, score=0.940 total time=   1.3s\n",
      "[CV 4/5] END learning_rate=0.001, max_depth=5, subsample=0.7;, score=0.940 total time=   1.3s\n",
      "[CV 5/5] END learning_rate=0.001, max_depth=5, subsample=0.7;, score=0.940 total time=   1.3s\n",
      "[CV 1/5] END learning_rate=0.001, max_depth=5, subsample=1;, score=0.940 total time=   1.2s\n",
      "[CV 2/5] END learning_rate=0.001, max_depth=5, subsample=1;, score=0.940 total time=   1.4s\n",
      "[CV 3/5] END learning_rate=0.001, max_depth=5, subsample=1;, score=0.940 total time=   1.2s\n",
      "[CV 4/5] END learning_rate=0.001, max_depth=5, subsample=1;, score=0.940 total time=   1.0s\n",
      "[CV 5/5] END learning_rate=0.001, max_depth=5, subsample=1;, score=0.940 total time=   1.1s\n",
      "[CV 1/5] END learning_rate=0.001, max_depth=7, subsample=0.5;, score=0.940 total time=   1.7s\n",
      "[CV 2/5] END learning_rate=0.001, max_depth=7, subsample=0.5;, score=0.940 total time=   1.8s\n",
      "[CV 3/5] END learning_rate=0.001, max_depth=7, subsample=0.5;, score=0.940 total time=   1.7s\n",
      "[CV 4/5] END learning_rate=0.001, max_depth=7, subsample=0.5;, score=0.940 total time=   1.7s\n",
      "[CV 5/5] END learning_rate=0.001, max_depth=7, subsample=0.5;, score=0.940 total time=   1.7s\n",
      "[CV 1/5] END learning_rate=0.001, max_depth=7, subsample=0.7;, score=0.940 total time=   1.9s\n",
      "[CV 2/5] END learning_rate=0.001, max_depth=7, subsample=0.7;, score=0.940 total time=   1.9s\n",
      "[CV 3/5] END learning_rate=0.001, max_depth=7, subsample=0.7;, score=0.940 total time=   1.9s\n",
      "[CV 4/5] END learning_rate=0.001, max_depth=7, subsample=0.7;, score=0.940 total time=   2.2s\n",
      "[CV 5/5] END learning_rate=0.001, max_depth=7, subsample=0.7;, score=0.940 total time=   1.3s\n",
      "[CV 1/5] END learning_rate=0.001, max_depth=7, subsample=1;, score=0.940 total time=   1.0s\n",
      "[CV 2/5] END learning_rate=0.001, max_depth=7, subsample=1;, score=0.940 total time=   1.1s\n",
      "[CV 3/5] END learning_rate=0.001, max_depth=7, subsample=1;, score=0.940 total time=   1.0s\n",
      "[CV 4/5] END learning_rate=0.001, max_depth=7, subsample=1;, score=0.940 total time=   1.0s\n",
      "[CV 5/5] END learning_rate=0.001, max_depth=7, subsample=1;, score=0.940 total time=   1.0s\n"
     ]
    },
    {
     "data": {
      "text/html": [
       "<style>#sk-container-id-13 {color: black;background-color: white;}#sk-container-id-13 pre{padding: 0;}#sk-container-id-13 div.sk-toggleable {background-color: white;}#sk-container-id-13 label.sk-toggleable__label {cursor: pointer;display: block;width: 100%;margin-bottom: 0;padding: 0.3em;box-sizing: border-box;text-align: center;}#sk-container-id-13 label.sk-toggleable__label-arrow:before {content: \"▸\";float: left;margin-right: 0.25em;color: #696969;}#sk-container-id-13 label.sk-toggleable__label-arrow:hover:before {color: black;}#sk-container-id-13 div.sk-estimator:hover label.sk-toggleable__label-arrow:before {color: black;}#sk-container-id-13 div.sk-toggleable__content {max-height: 0;max-width: 0;overflow: hidden;text-align: left;background-color: #f0f8ff;}#sk-container-id-13 div.sk-toggleable__content pre {margin: 0.2em;color: black;border-radius: 0.25em;background-color: #f0f8ff;}#sk-container-id-13 input.sk-toggleable__control:checked~div.sk-toggleable__content {max-height: 200px;max-width: 100%;overflow: auto;}#sk-container-id-13 input.sk-toggleable__control:checked~label.sk-toggleable__label-arrow:before {content: \"▾\";}#sk-container-id-13 div.sk-estimator input.sk-toggleable__control:checked~label.sk-toggleable__label {background-color: #d4ebff;}#sk-container-id-13 div.sk-label input.sk-toggleable__control:checked~label.sk-toggleable__label {background-color: #d4ebff;}#sk-container-id-13 input.sk-hidden--visually {border: 0;clip: rect(1px 1px 1px 1px);clip: rect(1px, 1px, 1px, 1px);height: 1px;margin: -1px;overflow: hidden;padding: 0;position: absolute;width: 1px;}#sk-container-id-13 div.sk-estimator {font-family: monospace;background-color: #f0f8ff;border: 1px dotted black;border-radius: 0.25em;box-sizing: border-box;margin-bottom: 0.5em;}#sk-container-id-13 div.sk-estimator:hover {background-color: #d4ebff;}#sk-container-id-13 div.sk-parallel-item::after {content: \"\";width: 100%;border-bottom: 1px solid gray;flex-grow: 1;}#sk-container-id-13 div.sk-label:hover label.sk-toggleable__label {background-color: #d4ebff;}#sk-container-id-13 div.sk-serial::before {content: \"\";position: absolute;border-left: 1px solid gray;box-sizing: border-box;top: 0;bottom: 0;left: 50%;z-index: 0;}#sk-container-id-13 div.sk-serial {display: flex;flex-direction: column;align-items: center;background-color: white;padding-right: 0.2em;padding-left: 0.2em;position: relative;}#sk-container-id-13 div.sk-item {position: relative;z-index: 1;}#sk-container-id-13 div.sk-parallel {display: flex;align-items: stretch;justify-content: center;background-color: white;position: relative;}#sk-container-id-13 div.sk-item::before, #sk-container-id-13 div.sk-parallel-item::before {content: \"\";position: absolute;border-left: 1px solid gray;box-sizing: border-box;top: 0;bottom: 0;left: 50%;z-index: -1;}#sk-container-id-13 div.sk-parallel-item {display: flex;flex-direction: column;z-index: 1;position: relative;background-color: white;}#sk-container-id-13 div.sk-parallel-item:first-child::after {align-self: flex-end;width: 50%;}#sk-container-id-13 div.sk-parallel-item:last-child::after {align-self: flex-start;width: 50%;}#sk-container-id-13 div.sk-parallel-item:only-child::after {width: 0;}#sk-container-id-13 div.sk-dashed-wrapped {border: 1px dashed gray;margin: 0 0.4em 0.5em 0.4em;box-sizing: border-box;padding-bottom: 0.4em;background-color: white;}#sk-container-id-13 div.sk-label label {font-family: monospace;font-weight: bold;display: inline-block;line-height: 1.2em;}#sk-container-id-13 div.sk-label-container {text-align: center;}#sk-container-id-13 div.sk-container {/* jupyter's `normalize.less` sets `[hidden] { display: none; }` but bootstrap.min.css set `[hidden] { display: none !important; }` so we also need the `!important` here to be able to override the default hidden behavior on the sphinx rendered scikit-learn.org. See: https://github.com/scikit-learn/scikit-learn/issues/21755 */display: inline-block !important;position: relative;}#sk-container-id-13 div.sk-text-repr-fallback {display: none;}</style><div id=\"sk-container-id-13\" class=\"sk-top-container\"><div class=\"sk-text-repr-fallback\"><pre>GridSearchCV(cv=5, estimator=GradientBoostingClassifier(),\n",
       "             param_grid={&#x27;learning_rate&#x27;: [0.1, 0.01, 0.001],\n",
       "                         &#x27;max_depth&#x27;: [3, 5, 7], &#x27;subsample&#x27;: [0.5, 0.7, 1]},\n",
       "             scoring=&#x27;f1&#x27;, verbose=3)</pre><b>In a Jupyter environment, please rerun this cell to show the HTML representation or trust the notebook. <br />On GitHub, the HTML representation is unable to render, please try loading this page with nbviewer.org.</b></div><div class=\"sk-container\" hidden><div class=\"sk-item sk-dashed-wrapped\"><div class=\"sk-label-container\"><div class=\"sk-label sk-toggleable\"><input class=\"sk-toggleable__control sk-hidden--visually\" id=\"sk-estimator-id-17\" type=\"checkbox\" ><label for=\"sk-estimator-id-17\" class=\"sk-toggleable__label sk-toggleable__label-arrow\">GridSearchCV</label><div class=\"sk-toggleable__content\"><pre>GridSearchCV(cv=5, estimator=GradientBoostingClassifier(),\n",
       "             param_grid={&#x27;learning_rate&#x27;: [0.1, 0.01, 0.001],\n",
       "                         &#x27;max_depth&#x27;: [3, 5, 7], &#x27;subsample&#x27;: [0.5, 0.7, 1]},\n",
       "             scoring=&#x27;f1&#x27;, verbose=3)</pre></div></div></div><div class=\"sk-parallel\"><div class=\"sk-parallel-item\"><div class=\"sk-item\"><div class=\"sk-label-container\"><div class=\"sk-label sk-toggleable\"><input class=\"sk-toggleable__control sk-hidden--visually\" id=\"sk-estimator-id-18\" type=\"checkbox\" ><label for=\"sk-estimator-id-18\" class=\"sk-toggleable__label sk-toggleable__label-arrow\">estimator: GradientBoostingClassifier</label><div class=\"sk-toggleable__content\"><pre>GradientBoostingClassifier()</pre></div></div></div><div class=\"sk-serial\"><div class=\"sk-item\"><div class=\"sk-estimator sk-toggleable\"><input class=\"sk-toggleable__control sk-hidden--visually\" id=\"sk-estimator-id-19\" type=\"checkbox\" ><label for=\"sk-estimator-id-19\" class=\"sk-toggleable__label sk-toggleable__label-arrow\">GradientBoostingClassifier</label><div class=\"sk-toggleable__content\"><pre>GradientBoostingClassifier()</pre></div></div></div></div></div></div></div></div></div></div>"
      ],
      "text/plain": [
       "GridSearchCV(cv=5, estimator=GradientBoostingClassifier(),\n",
       "             param_grid={'learning_rate': [0.1, 0.01, 0.001],\n",
       "                         'max_depth': [3, 5, 7], 'subsample': [0.5, 0.7, 1]},\n",
       "             scoring='f1', verbose=3)"
      ]
     },
     "execution_count": 204,
     "metadata": {},
     "output_type": "execute_result"
    }
   ],
   "source": [
    "grid.fit(x_train,y_train)"
   ]
  },
  {
   "cell_type": "code",
   "execution_count": 205,
   "id": "c1cba0dc-d61c-4e74-86af-99ce6fed44b0",
   "metadata": {},
   "outputs": [
    {
     "data": {
      "text/plain": [
       "{'learning_rate': 0.01, 'max_depth': 3, 'subsample': 0.5}"
      ]
     },
     "execution_count": 205,
     "metadata": {},
     "output_type": "execute_result"
    }
   ],
   "source": [
    "grid.best_params_"
   ]
  },
  {
   "cell_type": "code",
   "execution_count": 206,
   "id": "fb0bd4df-dde7-4715-8150-8fedc30023d3",
   "metadata": {},
   "outputs": [
    {
     "data": {
      "text/html": [
       "<style>#sk-container-id-14 {color: black;background-color: white;}#sk-container-id-14 pre{padding: 0;}#sk-container-id-14 div.sk-toggleable {background-color: white;}#sk-container-id-14 label.sk-toggleable__label {cursor: pointer;display: block;width: 100%;margin-bottom: 0;padding: 0.3em;box-sizing: border-box;text-align: center;}#sk-container-id-14 label.sk-toggleable__label-arrow:before {content: \"▸\";float: left;margin-right: 0.25em;color: #696969;}#sk-container-id-14 label.sk-toggleable__label-arrow:hover:before {color: black;}#sk-container-id-14 div.sk-estimator:hover label.sk-toggleable__label-arrow:before {color: black;}#sk-container-id-14 div.sk-toggleable__content {max-height: 0;max-width: 0;overflow: hidden;text-align: left;background-color: #f0f8ff;}#sk-container-id-14 div.sk-toggleable__content pre {margin: 0.2em;color: black;border-radius: 0.25em;background-color: #f0f8ff;}#sk-container-id-14 input.sk-toggleable__control:checked~div.sk-toggleable__content {max-height: 200px;max-width: 100%;overflow: auto;}#sk-container-id-14 input.sk-toggleable__control:checked~label.sk-toggleable__label-arrow:before {content: \"▾\";}#sk-container-id-14 div.sk-estimator input.sk-toggleable__control:checked~label.sk-toggleable__label {background-color: #d4ebff;}#sk-container-id-14 div.sk-label input.sk-toggleable__control:checked~label.sk-toggleable__label {background-color: #d4ebff;}#sk-container-id-14 input.sk-hidden--visually {border: 0;clip: rect(1px 1px 1px 1px);clip: rect(1px, 1px, 1px, 1px);height: 1px;margin: -1px;overflow: hidden;padding: 0;position: absolute;width: 1px;}#sk-container-id-14 div.sk-estimator {font-family: monospace;background-color: #f0f8ff;border: 1px dotted black;border-radius: 0.25em;box-sizing: border-box;margin-bottom: 0.5em;}#sk-container-id-14 div.sk-estimator:hover {background-color: #d4ebff;}#sk-container-id-14 div.sk-parallel-item::after {content: \"\";width: 100%;border-bottom: 1px solid gray;flex-grow: 1;}#sk-container-id-14 div.sk-label:hover label.sk-toggleable__label {background-color: #d4ebff;}#sk-container-id-14 div.sk-serial::before {content: \"\";position: absolute;border-left: 1px solid gray;box-sizing: border-box;top: 0;bottom: 0;left: 50%;z-index: 0;}#sk-container-id-14 div.sk-serial {display: flex;flex-direction: column;align-items: center;background-color: white;padding-right: 0.2em;padding-left: 0.2em;position: relative;}#sk-container-id-14 div.sk-item {position: relative;z-index: 1;}#sk-container-id-14 div.sk-parallel {display: flex;align-items: stretch;justify-content: center;background-color: white;position: relative;}#sk-container-id-14 div.sk-item::before, #sk-container-id-14 div.sk-parallel-item::before {content: \"\";position: absolute;border-left: 1px solid gray;box-sizing: border-box;top: 0;bottom: 0;left: 50%;z-index: -1;}#sk-container-id-14 div.sk-parallel-item {display: flex;flex-direction: column;z-index: 1;position: relative;background-color: white;}#sk-container-id-14 div.sk-parallel-item:first-child::after {align-self: flex-end;width: 50%;}#sk-container-id-14 div.sk-parallel-item:last-child::after {align-self: flex-start;width: 50%;}#sk-container-id-14 div.sk-parallel-item:only-child::after {width: 0;}#sk-container-id-14 div.sk-dashed-wrapped {border: 1px dashed gray;margin: 0 0.4em 0.5em 0.4em;box-sizing: border-box;padding-bottom: 0.4em;background-color: white;}#sk-container-id-14 div.sk-label label {font-family: monospace;font-weight: bold;display: inline-block;line-height: 1.2em;}#sk-container-id-14 div.sk-label-container {text-align: center;}#sk-container-id-14 div.sk-container {/* jupyter's `normalize.less` sets `[hidden] { display: none; }` but bootstrap.min.css set `[hidden] { display: none !important; }` so we also need the `!important` here to be able to override the default hidden behavior on the sphinx rendered scikit-learn.org. See: https://github.com/scikit-learn/scikit-learn/issues/21755 */display: inline-block !important;position: relative;}#sk-container-id-14 div.sk-text-repr-fallback {display: none;}</style><div id=\"sk-container-id-14\" class=\"sk-top-container\"><div class=\"sk-text-repr-fallback\"><pre>GradientBoostingClassifier(learning_rate=0.01, subsample=0.5)</pre><b>In a Jupyter environment, please rerun this cell to show the HTML representation or trust the notebook. <br />On GitHub, the HTML representation is unable to render, please try loading this page with nbviewer.org.</b></div><div class=\"sk-container\" hidden><div class=\"sk-item\"><div class=\"sk-estimator sk-toggleable\"><input class=\"sk-toggleable__control sk-hidden--visually\" id=\"sk-estimator-id-20\" type=\"checkbox\" checked><label for=\"sk-estimator-id-20\" class=\"sk-toggleable__label sk-toggleable__label-arrow\">GradientBoostingClassifier</label><div class=\"sk-toggleable__content\"><pre>GradientBoostingClassifier(learning_rate=0.01, subsample=0.5)</pre></div></div></div></div></div>"
      ],
      "text/plain": [
       "GradientBoostingClassifier(learning_rate=0.01, subsample=0.5)"
      ]
     },
     "execution_count": 206,
     "metadata": {},
     "output_type": "execute_result"
    }
   ],
   "source": [
    "grid.best_estimator_"
   ]
  },
  {
   "cell_type": "code",
   "execution_count": 207,
   "id": "77aee7e6-a525-4b75-93f2-294bc701caa5",
   "metadata": {},
   "outputs": [],
   "source": [
    "gbm3=GradientBoostingClassifier(max_depth=7, subsample=1)"
   ]
  },
  {
   "cell_type": "code",
   "execution_count": 208,
   "id": "2f21ce64-b401-4df8-8004-e863bd7c8f4d",
   "metadata": {},
   "outputs": [
    {
     "data": {
      "text/html": [
       "<style>#sk-container-id-15 {color: black;background-color: white;}#sk-container-id-15 pre{padding: 0;}#sk-container-id-15 div.sk-toggleable {background-color: white;}#sk-container-id-15 label.sk-toggleable__label {cursor: pointer;display: block;width: 100%;margin-bottom: 0;padding: 0.3em;box-sizing: border-box;text-align: center;}#sk-container-id-15 label.sk-toggleable__label-arrow:before {content: \"▸\";float: left;margin-right: 0.25em;color: #696969;}#sk-container-id-15 label.sk-toggleable__label-arrow:hover:before {color: black;}#sk-container-id-15 div.sk-estimator:hover label.sk-toggleable__label-arrow:before {color: black;}#sk-container-id-15 div.sk-toggleable__content {max-height: 0;max-width: 0;overflow: hidden;text-align: left;background-color: #f0f8ff;}#sk-container-id-15 div.sk-toggleable__content pre {margin: 0.2em;color: black;border-radius: 0.25em;background-color: #f0f8ff;}#sk-container-id-15 input.sk-toggleable__control:checked~div.sk-toggleable__content {max-height: 200px;max-width: 100%;overflow: auto;}#sk-container-id-15 input.sk-toggleable__control:checked~label.sk-toggleable__label-arrow:before {content: \"▾\";}#sk-container-id-15 div.sk-estimator input.sk-toggleable__control:checked~label.sk-toggleable__label {background-color: #d4ebff;}#sk-container-id-15 div.sk-label input.sk-toggleable__control:checked~label.sk-toggleable__label {background-color: #d4ebff;}#sk-container-id-15 input.sk-hidden--visually {border: 0;clip: rect(1px 1px 1px 1px);clip: rect(1px, 1px, 1px, 1px);height: 1px;margin: -1px;overflow: hidden;padding: 0;position: absolute;width: 1px;}#sk-container-id-15 div.sk-estimator {font-family: monospace;background-color: #f0f8ff;border: 1px dotted black;border-radius: 0.25em;box-sizing: border-box;margin-bottom: 0.5em;}#sk-container-id-15 div.sk-estimator:hover {background-color: #d4ebff;}#sk-container-id-15 div.sk-parallel-item::after {content: \"\";width: 100%;border-bottom: 1px solid gray;flex-grow: 1;}#sk-container-id-15 div.sk-label:hover label.sk-toggleable__label {background-color: #d4ebff;}#sk-container-id-15 div.sk-serial::before {content: \"\";position: absolute;border-left: 1px solid gray;box-sizing: border-box;top: 0;bottom: 0;left: 50%;z-index: 0;}#sk-container-id-15 div.sk-serial {display: flex;flex-direction: column;align-items: center;background-color: white;padding-right: 0.2em;padding-left: 0.2em;position: relative;}#sk-container-id-15 div.sk-item {position: relative;z-index: 1;}#sk-container-id-15 div.sk-parallel {display: flex;align-items: stretch;justify-content: center;background-color: white;position: relative;}#sk-container-id-15 div.sk-item::before, #sk-container-id-15 div.sk-parallel-item::before {content: \"\";position: absolute;border-left: 1px solid gray;box-sizing: border-box;top: 0;bottom: 0;left: 50%;z-index: -1;}#sk-container-id-15 div.sk-parallel-item {display: flex;flex-direction: column;z-index: 1;position: relative;background-color: white;}#sk-container-id-15 div.sk-parallel-item:first-child::after {align-self: flex-end;width: 50%;}#sk-container-id-15 div.sk-parallel-item:last-child::after {align-self: flex-start;width: 50%;}#sk-container-id-15 div.sk-parallel-item:only-child::after {width: 0;}#sk-container-id-15 div.sk-dashed-wrapped {border: 1px dashed gray;margin: 0 0.4em 0.5em 0.4em;box-sizing: border-box;padding-bottom: 0.4em;background-color: white;}#sk-container-id-15 div.sk-label label {font-family: monospace;font-weight: bold;display: inline-block;line-height: 1.2em;}#sk-container-id-15 div.sk-label-container {text-align: center;}#sk-container-id-15 div.sk-container {/* jupyter's `normalize.less` sets `[hidden] { display: none; }` but bootstrap.min.css set `[hidden] { display: none !important; }` so we also need the `!important` here to be able to override the default hidden behavior on the sphinx rendered scikit-learn.org. See: https://github.com/scikit-learn/scikit-learn/issues/21755 */display: inline-block !important;position: relative;}#sk-container-id-15 div.sk-text-repr-fallback {display: none;}</style><div id=\"sk-container-id-15\" class=\"sk-top-container\"><div class=\"sk-text-repr-fallback\"><pre>GradientBoostingClassifier(max_depth=7, subsample=1)</pre><b>In a Jupyter environment, please rerun this cell to show the HTML representation or trust the notebook. <br />On GitHub, the HTML representation is unable to render, please try loading this page with nbviewer.org.</b></div><div class=\"sk-container\" hidden><div class=\"sk-item\"><div class=\"sk-estimator sk-toggleable\"><input class=\"sk-toggleable__control sk-hidden--visually\" id=\"sk-estimator-id-21\" type=\"checkbox\" checked><label for=\"sk-estimator-id-21\" class=\"sk-toggleable__label sk-toggleable__label-arrow\">GradientBoostingClassifier</label><div class=\"sk-toggleable__content\"><pre>GradientBoostingClassifier(max_depth=7, subsample=1)</pre></div></div></div></div></div>"
      ],
      "text/plain": [
       "GradientBoostingClassifier(max_depth=7, subsample=1)"
      ]
     },
     "execution_count": 208,
     "metadata": {},
     "output_type": "execute_result"
    }
   ],
   "source": [
    "gbm3.fit(x_train,y_train)"
   ]
  },
  {
   "cell_type": "code",
   "execution_count": 209,
   "id": "cbe7df60-0f09-4090-8bac-10a1ed67d69d",
   "metadata": {},
   "outputs": [
    {
     "data": {
      "text/plain": [
       "array([1, 1, 1, ..., 1, 1, 1], dtype=int64)"
      ]
     },
     "execution_count": 209,
     "metadata": {},
     "output_type": "execute_result"
    }
   ],
   "source": [
    "y_pred_gbm_hte=gbm3.predict(x_test)\n",
    "y_pred_gbm_hte"
   ]
  },
  {
   "cell_type": "code",
   "execution_count": 210,
   "id": "c60f65cc-7f6c-4600-94e5-0612a56fa4db",
   "metadata": {},
   "outputs": [
    {
     "data": {
      "text/plain": [
       "array([1, 1, 1, ..., 1, 1, 1], dtype=int64)"
      ]
     },
     "execution_count": 210,
     "metadata": {},
     "output_type": "execute_result"
    }
   ],
   "source": [
    "y_test.values"
   ]
  },
  {
   "cell_type": "markdown",
   "id": "fd160bd3-f375-414b-a448-0ac374f04f0a",
   "metadata": {},
   "source": [
    "### Model Evaluation of XGBoost With Hyperparameter Tunning"
   ]
  },
  {
   "cell_type": "code",
   "execution_count": 211,
   "id": "1e1d3313-6770-49eb-b2b6-9a1c8af1e234",
   "metadata": {},
   "outputs": [
    {
     "data": {
      "text/plain": [
       "0.875"
      ]
     },
     "execution_count": 211,
     "metadata": {},
     "output_type": "execute_result"
    }
   ],
   "source": [
    "accuracy_score(y_test,y_pred_gbm_hte)"
   ]
  },
  {
   "cell_type": "code",
   "execution_count": 212,
   "id": "8ea2a8e3-6563-4d3b-97fb-ab8b278b5bd1",
   "metadata": {},
   "outputs": [
    {
     "data": {
      "text/plain": [
       "0.9654485049833887"
      ]
     },
     "execution_count": 212,
     "metadata": {},
     "output_type": "execute_result"
    }
   ],
   "source": [
    "recall_score(y_test,y_pred_gbm_hte)"
   ]
  },
  {
   "cell_type": "code",
   "execution_count": 213,
   "id": "9e19b029-5195-4c97-a189-8c3a943a146e",
   "metadata": {},
   "outputs": [
    {
     "data": {
      "text/plain": [
       "0.9326059050064185"
      ]
     },
     "execution_count": 213,
     "metadata": {},
     "output_type": "execute_result"
    }
   ],
   "source": [
    "f1_score(y_test,y_pred_gbm_hte)"
   ]
  },
  {
   "cell_type": "code",
   "execution_count": 214,
   "id": "5780f63b-869d-4a00-b60a-6bfd0896624f",
   "metadata": {},
   "outputs": [
    {
     "data": {
      "text/plain": [
       "0.9019242706393544"
      ]
     },
     "execution_count": 214,
     "metadata": {},
     "output_type": "execute_result"
    }
   ],
   "source": [
    "precision_score(y_test,y_pred_gbm_hte)"
   ]
  },
  {
   "cell_type": "code",
   "execution_count": 215,
   "id": "290c6501-116a-48fb-b668-3596de972f0a",
   "metadata": {},
   "outputs": [
    {
     "data": {
      "text/plain": [
       "0.531295681063123"
      ]
     },
     "execution_count": 215,
     "metadata": {},
     "output_type": "execute_result"
    }
   ],
   "source": [
    "roc_auc_score(y_test,y_pred_gbm_hte)"
   ]
  },
  {
   "cell_type": "markdown",
   "id": "872837e5-2ce9-4399-b094-6ffa6b50d263",
   "metadata": {},
   "source": [
    "# Create Pickle file"
   ]
  },
  {
   "cell_type": "code",
   "execution_count": 216,
   "id": "480a1ea6-1159-4930-bd0e-ef19059e3954",
   "metadata": {},
   "outputs": [],
   "source": [
    "import pickle"
   ]
  },
  {
   "cell_type": "code",
   "execution_count": 217,
   "id": "fd531c92-5d9a-43c7-ad0c-893b476c8892",
   "metadata": {},
   "outputs": [],
   "source": [
    "with open('data_file.pkl', 'wb') as file:\n",
    "    pickle.dump(gbm, file)"
   ]
  },
  {
   "cell_type": "code",
   "execution_count": null,
   "id": "18cbe219-70fd-42a9-98b7-0a446e69a57c",
   "metadata": {},
   "outputs": [],
   "source": []
  },
  {
   "cell_type": "code",
   "execution_count": null,
   "id": "78170e62-43c5-4719-ae9c-645343075c4c",
   "metadata": {},
   "outputs": [],
   "source": []
  },
  {
   "cell_type": "code",
   "execution_count": null,
   "id": "e1eabf4e-2472-49cf-8303-f3ade34d03da",
   "metadata": {},
   "outputs": [],
   "source": []
  },
  {
   "cell_type": "code",
   "execution_count": null,
   "id": "47971296-e4b9-473d-964c-551ad811ba99",
   "metadata": {},
   "outputs": [],
   "source": []
  },
  {
   "cell_type": "code",
   "execution_count": null,
   "id": "504ad57a-2b2b-4f51-9d59-1c8aa662c058",
   "metadata": {},
   "outputs": [],
   "source": []
  },
  {
   "cell_type": "code",
   "execution_count": null,
   "id": "9b829707-9156-484e-a388-3e9c097ddb2b",
   "metadata": {},
   "outputs": [],
   "source": []
  },
  {
   "cell_type": "code",
   "execution_count": null,
   "id": "35ef0e13-2ee3-4e2b-b7a8-8edf971e8ded",
   "metadata": {},
   "outputs": [],
   "source": []
  },
  {
   "cell_type": "code",
   "execution_count": null,
   "id": "750090ff-0aad-4db8-9e2e-ad9a6f66198a",
   "metadata": {},
   "outputs": [],
   "source": []
  },
  {
   "cell_type": "code",
   "execution_count": null,
   "id": "5a82d9f9-5dd3-4d9a-b37b-bae1b39aa411",
   "metadata": {},
   "outputs": [],
   "source": []
  },
  {
   "cell_type": "code",
   "execution_count": null,
   "id": "15373cdc-8f9f-4f88-9b5f-4da341c074af",
   "metadata": {},
   "outputs": [],
   "source": []
  },
  {
   "cell_type": "code",
   "execution_count": null,
   "id": "9ce7ac0e-3fa5-443f-b3f3-82813da372e0",
   "metadata": {},
   "outputs": [],
   "source": []
  },
  {
   "cell_type": "code",
   "execution_count": null,
   "id": "4a9fe607-5693-4d2e-92e0-3db9e4e6688c",
   "metadata": {},
   "outputs": [],
   "source": []
  },
  {
   "cell_type": "code",
   "execution_count": null,
   "id": "2d09ab78-9f58-4dbd-8e12-30c170640d33",
   "metadata": {},
   "outputs": [],
   "source": []
  },
  {
   "cell_type": "code",
   "execution_count": null,
   "id": "33668cfd-f733-4421-98a7-81c792f7059e",
   "metadata": {},
   "outputs": [],
   "source": []
  },
  {
   "cell_type": "code",
   "execution_count": null,
   "id": "daf5cd1d-ddb3-4165-89cc-551bbffa85c8",
   "metadata": {},
   "outputs": [],
   "source": []
  }
 ],
 "metadata": {
  "kernelspec": {
   "display_name": "Python 3 (ipykernel)",
   "language": "python",
   "name": "python3"
  },
  "language_info": {
   "codemirror_mode": {
    "name": "ipython",
    "version": 3
   },
   "file_extension": ".py",
   "mimetype": "text/x-python",
   "name": "python",
   "nbconvert_exporter": "python",
   "pygments_lexer": "ipython3",
   "version": "3.11.7"
  }
 },
 "nbformat": 4,
 "nbformat_minor": 5
}
